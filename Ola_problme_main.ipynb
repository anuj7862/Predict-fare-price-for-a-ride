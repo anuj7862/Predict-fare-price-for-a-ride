{
  "nbformat": 4,
  "nbformat_minor": 0,
  "metadata": {
    "colab": {
      "name": "Ola_problme_main.ipynb",
      "provenance": [],
      "collapsed_sections": []
    },
    "kernelspec": {
      "name": "python3",
      "display_name": "Python 3"
    },
    "accelerator": "GPU"
  },
  "cells": [
    {
      "cell_type": "markdown",
      "metadata": {
        "id": "pAzIWE2d1z5N",
        "colab_type": "text"
      },
      "source": [
        "### *import drive from google colab*"
      ]
    },
    {
      "cell_type": "code",
      "metadata": {
        "id": "6xzkT0jeASDJ",
        "colab_type": "code",
        "outputId": "f0c82520-66d6-4e39-eb5f-b1679165dcad",
        "colab": {
          "base_uri": "https://localhost:8080/",
          "height": 35
        }
      },
      "source": [
        "from google.colab import drive\n",
        "drive.mount(\"/content/drive\")"
      ],
      "execution_count": 0,
      "outputs": [
        {
          "output_type": "stream",
          "text": [
            "Drive already mounted at /content/drive; to attempt to forcibly remount, call drive.mount(\"/content/drive\", force_remount=True).\n"
          ],
          "name": "stdout"
        }
      ]
    },
    {
      "cell_type": "markdown",
      "metadata": {
        "id": "j9a5s4el1_P0",
        "colab_type": "text"
      },
      "source": [
        "### *import os for change dir,*\n",
        "### and print list of file in that dir"
      ]
    },
    {
      "cell_type": "code",
      "metadata": {
        "id": "tSuGyN0JAbFL",
        "colab_type": "code",
        "outputId": "ec7e9f0c-e9d3-45d1-a4d3-a25fd0b87b21",
        "colab": {
          "base_uri": "https://localhost:8080/",
          "height": 1000
        }
      },
      "source": [
        "import os\n",
        "os.chdir(\"/content/drive/My Drive/\")\n",
        "!ls"
      ],
      "execution_count": 0,
      "outputs": [
        {
          "output_type": "stream",
          "text": [
            " 1511348737868.jpg\n",
            " 20176032.jpg\n",
            " 20176032.zip\n",
            " adi_fingr_match.ino\n",
            "'Application for NOC_ka paisa.pdf'\n",
            " backup3\n",
            " c\n",
            " catboost_info\n",
            "'Code of Conduct for outside participation of Institute team.pdf'\n",
            "'colab notebook'\n",
            "'Colab Notebooks'\n",
            "'“Common Probability Distributions”'\n",
            " data.csv\n",
            " data.gsheet\n",
            " DSC_0200.jpg\n",
            " expenditure.pdf\n",
            "'HEAT_PRODUCE_IN_DISC_BRAKES[1].pdf'\n",
            "'HEAT PRODUCE IN DISC BRAKES.pdf'\n",
            " home\n",
            "'home_pro (1)'\n",
            " images\n",
            " IMG_20171111_122912.jpg\n",
            " IMG_20180219_004035.jpg\n",
            " IMG_20180219_004052.jpg\n",
            " IMG_20180219_004054.jpg\n",
            " IMG_20180219_004056.jpg\n",
            " IMG_20180219_004124.jpg\n",
            " IMG_20180826_125315.jpg\n",
            " IMG_20180908_235639.jpg\n",
            " IMG_20180909_000050.jpg\n",
            " IMG_20181007_025546.jpg\n",
            " IMG_20181007_025550.jpg\n",
            " IMG_20181027_105700.jpg\n",
            " IMG-20190910-WA0001.jpg\n",
            " Introduction_To_ML_Partial_2.pdf\n",
            " ML_Lecture2.pdf\n",
            " MNNIT-F01012018000032.pdf\n",
            " networking.pdf\n",
            " noc2-1.pdf\n",
            " result_ola2.csv\n",
            " result_ola3.csv\n",
            "'Resume Conversion and Single Page Formats.zip'\n",
            " Screenshot_2017-10-29-21-36-43-102_com.whatsapp.png\n",
            "'Screenshot_2019-09-04-22-09-56-340_com.google (1).android.apps.nbu.paisa.user.png'\n",
            " Screenshot_2019-09-04-22-09-56-340_com.google.android.apps.nbu.paisa.user.png\n",
            "'Simple CNN Image Tutorial'\n",
            "'SinaProg 2.1'\n",
            "'Sona Didi 20181220_204347.jpg'\n",
            " staring_date_28_02.ino\n",
            "'Summary Reportopdf.pdf'\n",
            "'Sumo technology.gslides'\n",
            "'test (1).csv'\n",
            " test.csv\n",
            " test.gsheet\n",
            " train.csv\n",
            " train_ola.csv\n",
            "'Tutorial Sheet No - Diffraction.pdf'\n",
            "'UNDERTAKING by Parent.pdf'\n",
            "'Untitled document (1).gdoc'\n",
            "'Untitled document.gdoc'\n",
            "'Untitled document.pdf'\n",
            " Weights-001--1.21609.hdf5\n",
            " Weights-001--1.24362.hdf5\n",
            " Weights-001--1.27505.hdf5\n",
            " Weights-001--1.51220.hdf5\n",
            " Weights-001--1.62378.hdf5\n",
            " Weights-001--1.68626.hdf5\n",
            " Weights-001--1.69105.hdf5\n",
            " Weights-001--1.70111.hdf5\n",
            " Weights-001--1.70914.hdf5\n",
            " Weights-001--2.80619.hdf5\n",
            " Weights-001--3.08516.hdf5\n",
            " Weights-001--728.13442.hdf5\n",
            " Weights-002--1.21061.hdf5\n",
            " Weights-002--127.09628.hdf5\n",
            " Weights-002--1.45395.hdf5\n",
            " Weights-002--1.46288.hdf5\n",
            " Weights-002--1.49295.hdf5\n",
            " Weights-002--1.62454.hdf5\n",
            " Weights-002--1.62752.hdf5\n",
            " Weights-002--1.63762.hdf5\n",
            " Weights-002--2.02038.hdf5\n",
            " Weights-002--2.13064.hdf5\n",
            " Weights-003--1.22519.hdf5\n",
            " Weights-003--1.37918.hdf5\n",
            " Weights-003--1.39452.hdf5\n",
            " Weights-003--1.42921.hdf5\n",
            " Weights-003--1.43643.hdf5\n",
            " Weights-003--1.51974.hdf5\n",
            " Weights-003--1.62491.hdf5\n",
            " Weights-003--2.02590.hdf5\n",
            " Weights-004--1.33471.hdf5\n",
            " Weights-004--1.45164.hdf5\n",
            " Weights-005--1.34468.hdf5\n",
            " Weights-005--1.35778.hdf5\n",
            " Weights-005--1.40337.hdf5\n",
            " Weights-006--1.30013.hdf5\n",
            " Weights-006--1.33314.hdf5\n",
            " Weights-006--1.35476.hdf5\n",
            " Weights-007--1.26941.hdf5\n",
            " Weights-007--1.31891.hdf5\n",
            " Weights-007--1.31932.hdf5\n",
            " Weights-007--1.35401.hdf5\n",
            " Weights-007--1.36443.hdf5\n",
            " Weights-008--1.28396.hdf5\n",
            " Weights-008--1.28601.hdf5\n",
            " Weights-009--1.24628.hdf5\n",
            " Weights-009--1.30828.hdf5\n",
            " Weights-010--1.32443.hdf5\n",
            " Weights-011--1.25461.hdf5\n",
            " Weights-013--1.23286.hdf5\n"
          ],
          "name": "stdout"
        }
      ]
    },
    {
      "cell_type": "markdown",
      "metadata": {
        "id": "UFaI5gEi2aEW",
        "colab_type": "text"
      },
      "source": [
        "### import pandas for reading .csv files and load train and test file of the problem"
      ]
    },
    {
      "cell_type": "code",
      "metadata": {
        "id": "IEkvL63rA2QY",
        "colab_type": "code",
        "outputId": "41a9a90f-c46c-4ea1-cc1b-3cd54e6b08d0",
        "colab": {
          "base_uri": "https://localhost:8080/",
          "height": 92
        }
      },
      "source": [
        "import pandas as pd\n",
        "train = pd.read_csv(\"train_ola.csv\")\n",
        "test = pd.read_csv(\"test (1).csv\")\n",
        "test = test[:154235]\n",
        "print(test.shape)"
      ],
      "execution_count": 0,
      "outputs": [
        {
          "output_type": "stream",
          "text": [
            "/usr/local/lib/python3.6/dist-packages/IPython/core/interactiveshell.py:2718: DtypeWarning: Columns (20,23,24,25,26) have mixed types. Specify dtype option on import or set low_memory=False.\n",
            "  interactivity=interactivity, compiler=compiler, result=result)\n"
          ],
          "name": "stderr"
        },
        {
          "output_type": "stream",
          "text": [
            "(154235, 27)\n"
          ],
          "name": "stdout"
        }
      ]
    },
    {
      "cell_type": "markdown",
      "metadata": {
        "id": "fqDj-ZI4qZQQ",
        "colab_type": "text"
      },
      "source": [
        "### print the data types of train data"
      ]
    },
    {
      "cell_type": "code",
      "metadata": {
        "id": "0ZOB2VjcWcGo",
        "colab_type": "code",
        "outputId": "fa78cab1-6cff-424a-f55e-a6c4b8ca8607",
        "colab": {
          "base_uri": "https://localhost:8080/",
          "height": 508
        }
      },
      "source": [
        "train.dtypes"
      ],
      "execution_count": 0,
      "outputs": [
        {
          "output_type": "execute_result",
          "data": {
            "text/plain": [
              "ID                      int64\n",
              "vendor_id               int64\n",
              "pickup_loc              int64\n",
              "drop_loc                int64\n",
              "driver_tip            float64\n",
              "tax                   float64\n",
              "distance              float64\n",
              "Pickup_date             int64\n",
              "pickup_month            int64\n",
              "pickup_hour             int64\n",
              "pickup_min              int64\n",
              "pickup_sec              int64\n",
              "drop_hour               int64\n",
              "drop_min                int64\n",
              "drop_sec                int64\n",
              "duration                int64\n",
              "num_passengers          int64\n",
              "toll_amount           float64\n",
              "payment_method          int64\n",
              "rate_code               int64\n",
              "stored_flag            object\n",
              "extra_charges         float64\n",
              "improvement_charge    float64\n",
              "total_amount          float64\n",
              "pickup_time            object\n",
              "drop_time              object\n",
              "dtype: object"
            ]
          },
          "metadata": {
            "tags": []
          },
          "execution_count": 85
        }
      ]
    },
    {
      "cell_type": "markdown",
      "metadata": {
        "id": "HukoR8RY3YtS",
        "colab_type": "text"
      },
      "source": [
        "### print the test data types"
      ]
    },
    {
      "cell_type": "code",
      "metadata": {
        "id": "KxdLVjVBCLWw",
        "colab_type": "code",
        "outputId": "5e9f24ea-2773-4f36-ac54-c24d2037e6fd",
        "colab": {
          "base_uri": "https://localhost:8080/",
          "height": 526
        }
      },
      "source": [
        "test.dtypes"
      ],
      "execution_count": 0,
      "outputs": [
        {
          "output_type": "execute_result",
          "data": {
            "text/plain": [
              "ID                    float64\n",
              "vendor_id             float64\n",
              "pickup_loc            float64\n",
              "drop_loc              float64\n",
              "driver_tip            float64\n",
              "mta_tax               float64\n",
              "distance              float64\n",
              "pday                    int64\n",
              "pmonth                  int64\n",
              "#VALUE!                 int64\n",
              "#VALUE!.1               int64\n",
              "0                       int64\n",
              "0.1                     int64\n",
              "0.2                     int64\n",
              "0.3                     int64\n",
              "#VALUE!.2               int64\n",
              "num_passengers        float64\n",
              "toll_amount           float64\n",
              "payment_method        float64\n",
              "rate_code             float64\n",
              "stored_flag            object\n",
              "extra_charges         float64\n",
              "improvement_charge    float64\n",
              "pickup_tim             object\n",
              "e                      object\n",
              "drop_time              object\n",
              "Unnamed: 26            object\n",
              "dtype: object"
            ]
          },
          "metadata": {
            "tags": []
          },
          "execution_count": 86
        }
      ]
    },
    {
      "cell_type": "code",
      "metadata": {
        "id": "wbqX5ssfBBW3",
        "colab_type": "code",
        "outputId": "4433dafe-9087-44fe-bcb4-1ea371592f13",
        "colab": {
          "base_uri": "https://localhost:8080/",
          "height": 218
        }
      },
      "source": [
        "train.head()"
      ],
      "execution_count": 0,
      "outputs": [
        {
          "output_type": "execute_result",
          "data": {
            "text/html": [
              "<div>\n",
              "<style scoped>\n",
              "    .dataframe tbody tr th:only-of-type {\n",
              "        vertical-align: middle;\n",
              "    }\n",
              "\n",
              "    .dataframe tbody tr th {\n",
              "        vertical-align: top;\n",
              "    }\n",
              "\n",
              "    .dataframe thead th {\n",
              "        text-align: right;\n",
              "    }\n",
              "</style>\n",
              "<table border=\"1\" class=\"dataframe\">\n",
              "  <thead>\n",
              "    <tr style=\"text-align: right;\">\n",
              "      <th></th>\n",
              "      <th>ID</th>\n",
              "      <th>vendor_id</th>\n",
              "      <th>pickup_loc</th>\n",
              "      <th>drop_loc</th>\n",
              "      <th>driver_tip</th>\n",
              "      <th>tax</th>\n",
              "      <th>distance</th>\n",
              "      <th>Pickup_date</th>\n",
              "      <th>pickup_month</th>\n",
              "      <th>pickup_hour</th>\n",
              "      <th>pickup_min</th>\n",
              "      <th>pickup_sec</th>\n",
              "      <th>drop_hour</th>\n",
              "      <th>drop_min</th>\n",
              "      <th>drop_sec</th>\n",
              "      <th>duration</th>\n",
              "      <th>num_passengers</th>\n",
              "      <th>toll_amount</th>\n",
              "      <th>payment_method</th>\n",
              "      <th>rate_code</th>\n",
              "      <th>stored_flag</th>\n",
              "      <th>extra_charges</th>\n",
              "      <th>improvement_charge</th>\n",
              "      <th>total_amount</th>\n",
              "      <th>pickup_time</th>\n",
              "      <th>drop_time</th>\n",
              "    </tr>\n",
              "  </thead>\n",
              "  <tbody>\n",
              "    <tr>\n",
              "      <th>0</th>\n",
              "      <td>0</td>\n",
              "      <td>1</td>\n",
              "      <td>170</td>\n",
              "      <td>233</td>\n",
              "      <td>1.83</td>\n",
              "      <td>0.5</td>\n",
              "      <td>0.70</td>\n",
              "      <td>4</td>\n",
              "      <td>4</td>\n",
              "      <td>17</td>\n",
              "      <td>59</td>\n",
              "      <td>0</td>\n",
              "      <td>18</td>\n",
              "      <td>5</td>\n",
              "      <td>0</td>\n",
              "      <td>360</td>\n",
              "      <td>1</td>\n",
              "      <td>0.0</td>\n",
              "      <td>1</td>\n",
              "      <td>1</td>\n",
              "      <td>N</td>\n",
              "      <td>1.0</td>\n",
              "      <td>0.3</td>\n",
              "      <td>9.13</td>\n",
              "      <td>17:59:00</td>\n",
              "      <td>18:05:00</td>\n",
              "    </tr>\n",
              "    <tr>\n",
              "      <th>1</th>\n",
              "      <td>1</td>\n",
              "      <td>2</td>\n",
              "      <td>151</td>\n",
              "      <td>243</td>\n",
              "      <td>3.56</td>\n",
              "      <td>0.5</td>\n",
              "      <td>4.64</td>\n",
              "      <td>4</td>\n",
              "      <td>3</td>\n",
              "      <td>19</td>\n",
              "      <td>3</td>\n",
              "      <td>0</td>\n",
              "      <td>19</td>\n",
              "      <td>20</td>\n",
              "      <td>0</td>\n",
              "      <td>1020</td>\n",
              "      <td>1</td>\n",
              "      <td>0.0</td>\n",
              "      <td>1</td>\n",
              "      <td>1</td>\n",
              "      <td>N</td>\n",
              "      <td>1.0</td>\n",
              "      <td>0.3</td>\n",
              "      <td>21.36</td>\n",
              "      <td>19:03:00</td>\n",
              "      <td>19:20:00</td>\n",
              "    </tr>\n",
              "    <tr>\n",
              "      <th>2</th>\n",
              "      <td>2</td>\n",
              "      <td>2</td>\n",
              "      <td>68</td>\n",
              "      <td>90</td>\n",
              "      <td>1.50</td>\n",
              "      <td>0.5</td>\n",
              "      <td>1.29</td>\n",
              "      <td>4</td>\n",
              "      <td>3</td>\n",
              "      <td>15</td>\n",
              "      <td>6</td>\n",
              "      <td>0</td>\n",
              "      <td>15</td>\n",
              "      <td>12</td>\n",
              "      <td>0</td>\n",
              "      <td>360</td>\n",
              "      <td>2</td>\n",
              "      <td>0.0</td>\n",
              "      <td>1</td>\n",
              "      <td>1</td>\n",
              "      <td>N</td>\n",
              "      <td>0.0</td>\n",
              "      <td>0.3</td>\n",
              "      <td>8.80</td>\n",
              "      <td>15:06:00</td>\n",
              "      <td>15:12:00</td>\n",
              "    </tr>\n",
              "    <tr>\n",
              "      <th>3</th>\n",
              "      <td>3</td>\n",
              "      <td>2</td>\n",
              "      <td>142</td>\n",
              "      <td>234</td>\n",
              "      <td>1.50</td>\n",
              "      <td>0.5</td>\n",
              "      <td>2.74</td>\n",
              "      <td>4</td>\n",
              "      <td>4</td>\n",
              "      <td>8</td>\n",
              "      <td>10</td>\n",
              "      <td>0</td>\n",
              "      <td>8</td>\n",
              "      <td>27</td>\n",
              "      <td>0</td>\n",
              "      <td>1020</td>\n",
              "      <td>1</td>\n",
              "      <td>0.0</td>\n",
              "      <td>1</td>\n",
              "      <td>1</td>\n",
              "      <td>N</td>\n",
              "      <td>0.0</td>\n",
              "      <td>0.3</td>\n",
              "      <td>14.80</td>\n",
              "      <td>08:10:00</td>\n",
              "      <td>08:27:00</td>\n",
              "    </tr>\n",
              "    <tr>\n",
              "      <th>4</th>\n",
              "      <td>4</td>\n",
              "      <td>2</td>\n",
              "      <td>238</td>\n",
              "      <td>238</td>\n",
              "      <td>0.00</td>\n",
              "      <td>0.5</td>\n",
              "      <td>0.45</td>\n",
              "      <td>4</td>\n",
              "      <td>5</td>\n",
              "      <td>14</td>\n",
              "      <td>2</td>\n",
              "      <td>0</td>\n",
              "      <td>14</td>\n",
              "      <td>5</td>\n",
              "      <td>0</td>\n",
              "      <td>180</td>\n",
              "      <td>6</td>\n",
              "      <td>0.0</td>\n",
              "      <td>2</td>\n",
              "      <td>1</td>\n",
              "      <td>N</td>\n",
              "      <td>0.0</td>\n",
              "      <td>0.3</td>\n",
              "      <td>4.80</td>\n",
              "      <td>14:02:00</td>\n",
              "      <td>14:05:00</td>\n",
              "    </tr>\n",
              "  </tbody>\n",
              "</table>\n",
              "</div>"
            ],
            "text/plain": [
              "   ID  vendor_id  pickup_loc  ...  total_amount  pickup_time  drop_time\n",
              "0   0          1         170  ...          9.13     17:59:00   18:05:00\n",
              "1   1          2         151  ...         21.36     19:03:00   19:20:00\n",
              "2   2          2          68  ...          8.80     15:06:00   15:12:00\n",
              "3   3          2         142  ...         14.80     08:10:00   08:27:00\n",
              "4   4          2         238  ...          4.80     14:02:00   14:05:00\n",
              "\n",
              "[5 rows x 26 columns]"
            ]
          },
          "metadata": {
            "tags": []
          },
          "execution_count": 87
        }
      ]
    },
    {
      "cell_type": "markdown",
      "metadata": {
        "id": "TcScdHlT42Nb",
        "colab_type": "text"
      },
      "source": [
        "### import useful model and lib"
      ]
    },
    {
      "cell_type": "code",
      "metadata": {
        "id": "FfrK4ia5B3DP",
        "colab_type": "code",
        "colab": {}
      },
      "source": [
        "from keras.callbacks import ModelCheckpoint\n",
        "from keras.models import Sequential\n",
        "from keras.layers import Dense, Activation, Flatten,BatchNormalization,Dropout\n",
        "\n",
        "from sklearn.model_selection import train_test_split\n",
        "from sklearn.ensemble import RandomForestRegressor\n",
        "from sklearn.metrics import mean_absolute_error \n",
        "\n",
        "import seaborn as sb\n",
        "import matplotlib.pyplot as plt\n",
        "import numpy as np\n",
        "\n",
        "#import warnings \n",
        "#warnings.filterwarnings('ignore')\n",
        "#warnings.filterwarnings('ignore', category=DeprecationWarning)\n",
        "#from xgboost import XGBRegressor"
      ],
      "execution_count": 0,
      "outputs": []
    },
    {
      "cell_type": "markdown",
      "metadata": {
        "id": "1hGktwKM5Y9k",
        "colab_type": "text"
      },
      "source": [
        "### plot the corelation matrix for choosing important features"
      ]
    },
    {
      "cell_type": "code",
      "metadata": {
        "id": "FfjaEyulBmnj",
        "colab_type": "code",
        "outputId": "07fa1dc7-a700-4242-f09c-ac5b877cbd07",
        "colab": {
          "base_uri": "https://localhost:8080/",
          "height": 890
        }
      },
      "source": [
        "C_mat = train.corr()\n",
        "fig = plt.figure(figsize=(15,15))\n",
        "\n",
        "sb.heatmap(C_mat,vmax=.9,square=True)\n",
        "plt.show()"
      ],
      "execution_count": 0,
      "outputs": [
        {
          "output_type": "display_data",
          "data": {
            "image/png": "[encoded data removed]",
            "text/plain": [
              "<Figure size 1080x1080 with 2 Axes>"
            ]
          },
          "metadata": {
            "tags": []
          }
        }
      ]
    },
    {
      "cell_type": "code",
      "metadata": {
        "id": "Fyyyt0OACI3h",
        "colab_type": "code",
        "outputId": "9a399d73-c7aa-4189-9241-8ec5cc7b3874",
        "colab": {
          "base_uri": "https://localhost:8080/",
          "height": 508
        }
      },
      "source": [
        "train.dtypes"
      ],
      "execution_count": 0,
      "outputs": [
        {
          "output_type": "execute_result",
          "data": {
            "text/plain": [
              "ID                      int64\n",
              "vendor_id               int64\n",
              "pickup_loc              int64\n",
              "drop_loc                int64\n",
              "driver_tip            float64\n",
              "tax                   float64\n",
              "distance              float64\n",
              "Pickup_date             int64\n",
              "pickup_month            int64\n",
              "pickup_hour             int64\n",
              "pickup_min              int64\n",
              "pickup_sec              int64\n",
              "drop_hour               int64\n",
              "drop_min                int64\n",
              "drop_sec                int64\n",
              "duration                int64\n",
              "num_passengers          int64\n",
              "toll_amount           float64\n",
              "payment_method          int64\n",
              "rate_code               int64\n",
              "stored_flag            object\n",
              "extra_charges         float64\n",
              "improvement_charge    float64\n",
              "total_amount          float64\n",
              "pickup_time            object\n",
              "drop_time              object\n",
              "dtype: object"
            ]
          },
          "metadata": {
            "tags": []
          },
          "execution_count": 90
        }
      ]
    },
    {
      "cell_type": "markdown",
      "metadata": {
        "id": "iezDfGST5rzi",
        "colab_type": "text"
      },
      "source": [
        "### make 2 new dataframes\n",
        "### 1. continuous\n",
        "### 2. numeric"
      ]
    },
    {
      "cell_type": "code",
      "metadata": {
        "id": "P1_6ptmBErKp",
        "colab_type": "code",
        "colab": {}
      },
      "source": [
        "new_con = pd.DataFrame()\n",
        "new_num = pd.DataFrame()"
      ],
      "execution_count": 0,
      "outputs": []
    },
    {
      "cell_type": "markdown",
      "metadata": {
        "id": "fHHFEEof6Gk0",
        "colab_type": "text"
      },
      "source": [
        "### add continuous features in new_con dats frame"
      ]
    },
    {
      "cell_type": "code",
      "metadata": {
        "id": "h20OcBRxtYI6",
        "colab_type": "code",
        "colab": {}
      },
      "source": [
        "new_con['pickup_loc'] = train['pickup_loc']\n",
        "new_con['drop_loc'] = train['pickup_loc']\n",
        "new_con['distance'] = train['distance']\n",
        "new_con['driver_tip'] = train['driver_tip']\n",
        "new_con['toll_amount'] = train['toll_amount']\n"
      ],
      "execution_count": 0,
      "outputs": []
    },
    {
      "cell_type": "markdown",
      "metadata": {
        "id": "PJjpKM4o81Oa",
        "colab_type": "text"
      },
      "source": [
        "### add numeric features in new_num data frame"
      ]
    },
    {
      "cell_type": "code",
      "metadata": {
        "id": "2BSWOVwCxqI5",
        "colab_type": "code",
        "colab": {}
      },
      "source": [
        "new_num['tax'] = train['tax']\n",
        "new_num['payment_method']= train['payment_method']\n",
        "new_num['rate_code'] = train['rate_code']\n",
        "new_num['extra_charges'] = train['extra_charges']"
      ],
      "execution_count": 0,
      "outputs": []
    },
    {
      "cell_type": "markdown",
      "metadata": {
        "id": "B6zGFE1-9KFF",
        "colab_type": "text"
      },
      "source": [
        "### split all numeric features"
      ]
    },
    {
      "cell_type": "code",
      "metadata": {
        "id": "XPBDgIrTyNsX",
        "colab_type": "code",
        "outputId": "53e26b9b-248f-42b4-e1e4-3d10cd6866a1",
        "colab": {
          "base_uri": "https://localhost:8080/",
          "height": 198
        }
      },
      "source": [
        "dummies = pd.get_dummies(new_num['tax'],prefix='tax')\n",
        "new_con = pd.concat([new_con,dummies],axis=1)\n",
        "new_con.head()"
      ],
      "execution_count": 0,
      "outputs": [
        {
          "output_type": "execute_result",
          "data": {
            "text/html": [
              "<div>\n",
              "<style scoped>\n",
              "    .dataframe tbody tr th:only-of-type {\n",
              "        vertical-align: middle;\n",
              "    }\n",
              "\n",
              "    .dataframe tbody tr th {\n",
              "        vertical-align: top;\n",
              "    }\n",
              "\n",
              "    .dataframe thead th {\n",
              "        text-align: right;\n",
              "    }\n",
              "</style>\n",
              "<table border=\"1\" class=\"dataframe\">\n",
              "  <thead>\n",
              "    <tr style=\"text-align: right;\">\n",
              "      <th></th>\n",
              "      <th>pickup_loc</th>\n",
              "      <th>drop_loc</th>\n",
              "      <th>distance</th>\n",
              "      <th>driver_tip</th>\n",
              "      <th>toll_amount</th>\n",
              "      <th>tax_0.0</th>\n",
              "      <th>tax_0.5</th>\n",
              "    </tr>\n",
              "  </thead>\n",
              "  <tbody>\n",
              "    <tr>\n",
              "      <th>0</th>\n",
              "      <td>170</td>\n",
              "      <td>170</td>\n",
              "      <td>0.70</td>\n",
              "      <td>1.83</td>\n",
              "      <td>0.0</td>\n",
              "      <td>0</td>\n",
              "      <td>1</td>\n",
              "    </tr>\n",
              "    <tr>\n",
              "      <th>1</th>\n",
              "      <td>151</td>\n",
              "      <td>151</td>\n",
              "      <td>4.64</td>\n",
              "      <td>3.56</td>\n",
              "      <td>0.0</td>\n",
              "      <td>0</td>\n",
              "      <td>1</td>\n",
              "    </tr>\n",
              "    <tr>\n",
              "      <th>2</th>\n",
              "      <td>68</td>\n",
              "      <td>68</td>\n",
              "      <td>1.29</td>\n",
              "      <td>1.50</td>\n",
              "      <td>0.0</td>\n",
              "      <td>0</td>\n",
              "      <td>1</td>\n",
              "    </tr>\n",
              "    <tr>\n",
              "      <th>3</th>\n",
              "      <td>142</td>\n",
              "      <td>142</td>\n",
              "      <td>2.74</td>\n",
              "      <td>1.50</td>\n",
              "      <td>0.0</td>\n",
              "      <td>0</td>\n",
              "      <td>1</td>\n",
              "    </tr>\n",
              "    <tr>\n",
              "      <th>4</th>\n",
              "      <td>238</td>\n",
              "      <td>238</td>\n",
              "      <td>0.45</td>\n",
              "      <td>0.00</td>\n",
              "      <td>0.0</td>\n",
              "      <td>0</td>\n",
              "      <td>1</td>\n",
              "    </tr>\n",
              "  </tbody>\n",
              "</table>\n",
              "</div>"
            ],
            "text/plain": [
              "   pickup_loc  drop_loc  distance  driver_tip  toll_amount  tax_0.0  tax_0.5\n",
              "0         170       170      0.70        1.83          0.0        0        1\n",
              "1         151       151      4.64        3.56          0.0        0        1\n",
              "2          68        68      1.29        1.50          0.0        0        1\n",
              "3         142       142      2.74        1.50          0.0        0        1\n",
              "4         238       238      0.45        0.00          0.0        0        1"
            ]
          },
          "metadata": {
            "tags": []
          },
          "execution_count": 94
        }
      ]
    },
    {
      "cell_type": "code",
      "metadata": {
        "id": "1zMB56OOye5l",
        "colab_type": "code",
        "outputId": "101d92f6-5704-4144-830c-f64a552ab0bc",
        "colab": {
          "base_uri": "https://localhost:8080/",
          "height": 218
        }
      },
      "source": [
        "dummies = pd.get_dummies(new_num['payment_method'],prefix='payment_method')\n",
        "new_con = pd.concat([new_con,dummies],axis=1)\n",
        "new_con.head()"
      ],
      "execution_count": 0,
      "outputs": [
        {
          "output_type": "execute_result",
          "data": {
            "text/html": [
              "<div>\n",
              "<style scoped>\n",
              "    .dataframe tbody tr th:only-of-type {\n",
              "        vertical-align: middle;\n",
              "    }\n",
              "\n",
              "    .dataframe tbody tr th {\n",
              "        vertical-align: top;\n",
              "    }\n",
              "\n",
              "    .dataframe thead th {\n",
              "        text-align: right;\n",
              "    }\n",
              "</style>\n",
              "<table border=\"1\" class=\"dataframe\">\n",
              "  <thead>\n",
              "    <tr style=\"text-align: right;\">\n",
              "      <th></th>\n",
              "      <th>pickup_loc</th>\n",
              "      <th>drop_loc</th>\n",
              "      <th>distance</th>\n",
              "      <th>driver_tip</th>\n",
              "      <th>toll_amount</th>\n",
              "      <th>tax_0.0</th>\n",
              "      <th>tax_0.5</th>\n",
              "      <th>payment_method_1</th>\n",
              "      <th>payment_method_2</th>\n",
              "      <th>payment_method_3</th>\n",
              "      <th>payment_method_4</th>\n",
              "    </tr>\n",
              "  </thead>\n",
              "  <tbody>\n",
              "    <tr>\n",
              "      <th>0</th>\n",
              "      <td>170</td>\n",
              "      <td>170</td>\n",
              "      <td>0.70</td>\n",
              "      <td>1.83</td>\n",
              "      <td>0.0</td>\n",
              "      <td>0</td>\n",
              "      <td>1</td>\n",
              "      <td>1</td>\n",
              "      <td>0</td>\n",
              "      <td>0</td>\n",
              "      <td>0</td>\n",
              "    </tr>\n",
              "    <tr>\n",
              "      <th>1</th>\n",
              "      <td>151</td>\n",
              "      <td>151</td>\n",
              "      <td>4.64</td>\n",
              "      <td>3.56</td>\n",
              "      <td>0.0</td>\n",
              "      <td>0</td>\n",
              "      <td>1</td>\n",
              "      <td>1</td>\n",
              "      <td>0</td>\n",
              "      <td>0</td>\n",
              "      <td>0</td>\n",
              "    </tr>\n",
              "    <tr>\n",
              "      <th>2</th>\n",
              "      <td>68</td>\n",
              "      <td>68</td>\n",
              "      <td>1.29</td>\n",
              "      <td>1.50</td>\n",
              "      <td>0.0</td>\n",
              "      <td>0</td>\n",
              "      <td>1</td>\n",
              "      <td>1</td>\n",
              "      <td>0</td>\n",
              "      <td>0</td>\n",
              "      <td>0</td>\n",
              "    </tr>\n",
              "    <tr>\n",
              "      <th>3</th>\n",
              "      <td>142</td>\n",
              "      <td>142</td>\n",
              "      <td>2.74</td>\n",
              "      <td>1.50</td>\n",
              "      <td>0.0</td>\n",
              "      <td>0</td>\n",
              "      <td>1</td>\n",
              "      <td>1</td>\n",
              "      <td>0</td>\n",
              "      <td>0</td>\n",
              "      <td>0</td>\n",
              "    </tr>\n",
              "    <tr>\n",
              "      <th>4</th>\n",
              "      <td>238</td>\n",
              "      <td>238</td>\n",
              "      <td>0.45</td>\n",
              "      <td>0.00</td>\n",
              "      <td>0.0</td>\n",
              "      <td>0</td>\n",
              "      <td>1</td>\n",
              "      <td>0</td>\n",
              "      <td>1</td>\n",
              "      <td>0</td>\n",
              "      <td>0</td>\n",
              "    </tr>\n",
              "  </tbody>\n",
              "</table>\n",
              "</div>"
            ],
            "text/plain": [
              "   pickup_loc  drop_loc  ...  payment_method_3  payment_method_4\n",
              "0         170       170  ...                 0                 0\n",
              "1         151       151  ...                 0                 0\n",
              "2          68        68  ...                 0                 0\n",
              "3         142       142  ...                 0                 0\n",
              "4         238       238  ...                 0                 0\n",
              "\n",
              "[5 rows x 11 columns]"
            ]
          },
          "metadata": {
            "tags": []
          },
          "execution_count": 95
        }
      ]
    },
    {
      "cell_type": "code",
      "metadata": {
        "id": "oXYQwdcH0aQZ",
        "colab_type": "code",
        "outputId": "f6971508-a1bb-4dde-e447-e6f949486dcb",
        "colab": {
          "base_uri": "https://localhost:8080/",
          "height": 218
        }
      },
      "source": [
        "dummies = pd.get_dummies(new_num['rate_code'],prefix='rate_code')\n",
        "new_con = pd.concat([new_con,dummies],axis=1)\n",
        "new_con.head()"
      ],
      "execution_count": 0,
      "outputs": [
        {
          "output_type": "execute_result",
          "data": {
            "text/html": [
              "<div>\n",
              "<style scoped>\n",
              "    .dataframe tbody tr th:only-of-type {\n",
              "        vertical-align: middle;\n",
              "    }\n",
              "\n",
              "    .dataframe tbody tr th {\n",
              "        vertical-align: top;\n",
              "    }\n",
              "\n",
              "    .dataframe thead th {\n",
              "        text-align: right;\n",
              "    }\n",
              "</style>\n",
              "<table border=\"1\" class=\"dataframe\">\n",
              "  <thead>\n",
              "    <tr style=\"text-align: right;\">\n",
              "      <th></th>\n",
              "      <th>pickup_loc</th>\n",
              "      <th>drop_loc</th>\n",
              "      <th>distance</th>\n",
              "      <th>driver_tip</th>\n",
              "      <th>toll_amount</th>\n",
              "      <th>tax_0.0</th>\n",
              "      <th>tax_0.5</th>\n",
              "      <th>payment_method_1</th>\n",
              "      <th>payment_method_2</th>\n",
              "      <th>payment_method_3</th>\n",
              "      <th>payment_method_4</th>\n",
              "      <th>rate_code_1</th>\n",
              "      <th>rate_code_2</th>\n",
              "      <th>rate_code_3</th>\n",
              "      <th>rate_code_4</th>\n",
              "      <th>rate_code_5</th>\n",
              "      <th>rate_code_6</th>\n",
              "      <th>rate_code_99</th>\n",
              "    </tr>\n",
              "  </thead>\n",
              "  <tbody>\n",
              "    <tr>\n",
              "      <th>0</th>\n",
              "      <td>170</td>\n",
              "      <td>170</td>\n",
              "      <td>0.70</td>\n",
              "      <td>1.83</td>\n",
              "      <td>0.0</td>\n",
              "      <td>0</td>\n",
              "      <td>1</td>\n",
              "      <td>1</td>\n",
              "      <td>0</td>\n",
              "      <td>0</td>\n",
              "      <td>0</td>\n",
              "      <td>1</td>\n",
              "      <td>0</td>\n",
              "      <td>0</td>\n",
              "      <td>0</td>\n",
              "      <td>0</td>\n",
              "      <td>0</td>\n",
              "      <td>0</td>\n",
              "    </tr>\n",
              "    <tr>\n",
              "      <th>1</th>\n",
              "      <td>151</td>\n",
              "      <td>151</td>\n",
              "      <td>4.64</td>\n",
              "      <td>3.56</td>\n",
              "      <td>0.0</td>\n",
              "      <td>0</td>\n",
              "      <td>1</td>\n",
              "      <td>1</td>\n",
              "      <td>0</td>\n",
              "      <td>0</td>\n",
              "      <td>0</td>\n",
              "      <td>1</td>\n",
              "      <td>0</td>\n",
              "      <td>0</td>\n",
              "      <td>0</td>\n",
              "      <td>0</td>\n",
              "      <td>0</td>\n",
              "      <td>0</td>\n",
              "    </tr>\n",
              "    <tr>\n",
              "      <th>2</th>\n",
              "      <td>68</td>\n",
              "      <td>68</td>\n",
              "      <td>1.29</td>\n",
              "      <td>1.50</td>\n",
              "      <td>0.0</td>\n",
              "      <td>0</td>\n",
              "      <td>1</td>\n",
              "      <td>1</td>\n",
              "      <td>0</td>\n",
              "      <td>0</td>\n",
              "      <td>0</td>\n",
              "      <td>1</td>\n",
              "      <td>0</td>\n",
              "      <td>0</td>\n",
              "      <td>0</td>\n",
              "      <td>0</td>\n",
              "      <td>0</td>\n",
              "      <td>0</td>\n",
              "    </tr>\n",
              "    <tr>\n",
              "      <th>3</th>\n",
              "      <td>142</td>\n",
              "      <td>142</td>\n",
              "      <td>2.74</td>\n",
              "      <td>1.50</td>\n",
              "      <td>0.0</td>\n",
              "      <td>0</td>\n",
              "      <td>1</td>\n",
              "      <td>1</td>\n",
              "      <td>0</td>\n",
              "      <td>0</td>\n",
              "      <td>0</td>\n",
              "      <td>1</td>\n",
              "      <td>0</td>\n",
              "      <td>0</td>\n",
              "      <td>0</td>\n",
              "      <td>0</td>\n",
              "      <td>0</td>\n",
              "      <td>0</td>\n",
              "    </tr>\n",
              "    <tr>\n",
              "      <th>4</th>\n",
              "      <td>238</td>\n",
              "      <td>238</td>\n",
              "      <td>0.45</td>\n",
              "      <td>0.00</td>\n",
              "      <td>0.0</td>\n",
              "      <td>0</td>\n",
              "      <td>1</td>\n",
              "      <td>0</td>\n",
              "      <td>1</td>\n",
              "      <td>0</td>\n",
              "      <td>0</td>\n",
              "      <td>1</td>\n",
              "      <td>0</td>\n",
              "      <td>0</td>\n",
              "      <td>0</td>\n",
              "      <td>0</td>\n",
              "      <td>0</td>\n",
              "      <td>0</td>\n",
              "    </tr>\n",
              "  </tbody>\n",
              "</table>\n",
              "</div>"
            ],
            "text/plain": [
              "   pickup_loc  drop_loc  distance  ...  rate_code_5  rate_code_6  rate_code_99\n",
              "0         170       170      0.70  ...            0            0             0\n",
              "1         151       151      4.64  ...            0            0             0\n",
              "2          68        68      1.29  ...            0            0             0\n",
              "3         142       142      2.74  ...            0            0             0\n",
              "4         238       238      0.45  ...            0            0             0\n",
              "\n",
              "[5 rows x 18 columns]"
            ]
          },
          "metadata": {
            "tags": []
          },
          "execution_count": 96
        }
      ]
    },
    {
      "cell_type": "code",
      "metadata": {
        "id": "fSrFAXh31KYd",
        "colab_type": "code",
        "outputId": "8a9fdc6e-d9cb-44d2-e112-11c3dca0a896",
        "colab": {
          "base_uri": "https://localhost:8080/",
          "height": 218
        }
      },
      "source": [
        "#dummies = pd.get_dummies(new_num['extra_charges'],prefix='extra_charges')\n",
        "#new_con = pd.concat([new_con,dummies],axis=1)\n",
        "new_con['extra_charges'] = new_num['extra_charges']\n",
        "new_con.head()"
      ],
      "execution_count": 0,
      "outputs": [
        {
          "output_type": "execute_result",
          "data": {
            "text/html": [
              "<div>\n",
              "<style scoped>\n",
              "    .dataframe tbody tr th:only-of-type {\n",
              "        vertical-align: middle;\n",
              "    }\n",
              "\n",
              "    .dataframe tbody tr th {\n",
              "        vertical-align: top;\n",
              "    }\n",
              "\n",
              "    .dataframe thead th {\n",
              "        text-align: right;\n",
              "    }\n",
              "</style>\n",
              "<table border=\"1\" class=\"dataframe\">\n",
              "  <thead>\n",
              "    <tr style=\"text-align: right;\">\n",
              "      <th></th>\n",
              "      <th>pickup_loc</th>\n",
              "      <th>drop_loc</th>\n",
              "      <th>distance</th>\n",
              "      <th>driver_tip</th>\n",
              "      <th>toll_amount</th>\n",
              "      <th>tax_0.0</th>\n",
              "      <th>tax_0.5</th>\n",
              "      <th>payment_method_1</th>\n",
              "      <th>payment_method_2</th>\n",
              "      <th>payment_method_3</th>\n",
              "      <th>payment_method_4</th>\n",
              "      <th>rate_code_1</th>\n",
              "      <th>rate_code_2</th>\n",
              "      <th>rate_code_3</th>\n",
              "      <th>rate_code_4</th>\n",
              "      <th>rate_code_5</th>\n",
              "      <th>rate_code_6</th>\n",
              "      <th>rate_code_99</th>\n",
              "      <th>extra_charges</th>\n",
              "    </tr>\n",
              "  </thead>\n",
              "  <tbody>\n",
              "    <tr>\n",
              "      <th>0</th>\n",
              "      <td>170</td>\n",
              "      <td>170</td>\n",
              "      <td>0.70</td>\n",
              "      <td>1.83</td>\n",
              "      <td>0.0</td>\n",
              "      <td>0</td>\n",
              "      <td>1</td>\n",
              "      <td>1</td>\n",
              "      <td>0</td>\n",
              "      <td>0</td>\n",
              "      <td>0</td>\n",
              "      <td>1</td>\n",
              "      <td>0</td>\n",
              "      <td>0</td>\n",
              "      <td>0</td>\n",
              "      <td>0</td>\n",
              "      <td>0</td>\n",
              "      <td>0</td>\n",
              "      <td>1.0</td>\n",
              "    </tr>\n",
              "    <tr>\n",
              "      <th>1</th>\n",
              "      <td>151</td>\n",
              "      <td>151</td>\n",
              "      <td>4.64</td>\n",
              "      <td>3.56</td>\n",
              "      <td>0.0</td>\n",
              "      <td>0</td>\n",
              "      <td>1</td>\n",
              "      <td>1</td>\n",
              "      <td>0</td>\n",
              "      <td>0</td>\n",
              "      <td>0</td>\n",
              "      <td>1</td>\n",
              "      <td>0</td>\n",
              "      <td>0</td>\n",
              "      <td>0</td>\n",
              "      <td>0</td>\n",
              "      <td>0</td>\n",
              "      <td>0</td>\n",
              "      <td>1.0</td>\n",
              "    </tr>\n",
              "    <tr>\n",
              "      <th>2</th>\n",
              "      <td>68</td>\n",
              "      <td>68</td>\n",
              "      <td>1.29</td>\n",
              "      <td>1.50</td>\n",
              "      <td>0.0</td>\n",
              "      <td>0</td>\n",
              "      <td>1</td>\n",
              "      <td>1</td>\n",
              "      <td>0</td>\n",
              "      <td>0</td>\n",
              "      <td>0</td>\n",
              "      <td>1</td>\n",
              "      <td>0</td>\n",
              "      <td>0</td>\n",
              "      <td>0</td>\n",
              "      <td>0</td>\n",
              "      <td>0</td>\n",
              "      <td>0</td>\n",
              "      <td>0.0</td>\n",
              "    </tr>\n",
              "    <tr>\n",
              "      <th>3</th>\n",
              "      <td>142</td>\n",
              "      <td>142</td>\n",
              "      <td>2.74</td>\n",
              "      <td>1.50</td>\n",
              "      <td>0.0</td>\n",
              "      <td>0</td>\n",
              "      <td>1</td>\n",
              "      <td>1</td>\n",
              "      <td>0</td>\n",
              "      <td>0</td>\n",
              "      <td>0</td>\n",
              "      <td>1</td>\n",
              "      <td>0</td>\n",
              "      <td>0</td>\n",
              "      <td>0</td>\n",
              "      <td>0</td>\n",
              "      <td>0</td>\n",
              "      <td>0</td>\n",
              "      <td>0.0</td>\n",
              "    </tr>\n",
              "    <tr>\n",
              "      <th>4</th>\n",
              "      <td>238</td>\n",
              "      <td>238</td>\n",
              "      <td>0.45</td>\n",
              "      <td>0.00</td>\n",
              "      <td>0.0</td>\n",
              "      <td>0</td>\n",
              "      <td>1</td>\n",
              "      <td>0</td>\n",
              "      <td>1</td>\n",
              "      <td>0</td>\n",
              "      <td>0</td>\n",
              "      <td>1</td>\n",
              "      <td>0</td>\n",
              "      <td>0</td>\n",
              "      <td>0</td>\n",
              "      <td>0</td>\n",
              "      <td>0</td>\n",
              "      <td>0</td>\n",
              "      <td>0.0</td>\n",
              "    </tr>\n",
              "  </tbody>\n",
              "</table>\n",
              "</div>"
            ],
            "text/plain": [
              "   pickup_loc  drop_loc  distance  ...  rate_code_6  rate_code_99  extra_charges\n",
              "0         170       170      0.70  ...            0             0            1.0\n",
              "1         151       151      4.64  ...            0             0            1.0\n",
              "2          68        68      1.29  ...            0             0            0.0\n",
              "3         142       142      2.74  ...            0             0            0.0\n",
              "4         238       238      0.45  ...            0             0            0.0\n",
              "\n",
              "[5 rows x 19 columns]"
            ]
          },
          "metadata": {
            "tags": []
          },
          "execution_count": 97
        }
      ]
    },
    {
      "cell_type": "markdown",
      "metadata": {
        "id": "-vTvvg5p9XrD",
        "colab_type": "text"
      },
      "source": [
        "### make the target array"
      ]
    },
    {
      "cell_type": "code",
      "metadata": {
        "id": "bEMBmbuI4G68",
        "colab_type": "code",
        "outputId": "132d6a1c-fbb3-40ae-f23a-a777cf1fe5ca",
        "colab": {
          "base_uri": "https://localhost:8080/",
          "height": 35
        }
      },
      "source": [
        "target = train['total_amount']\n",
        "target.shape"
      ],
      "execution_count": 0,
      "outputs": [
        {
          "output_type": "execute_result",
          "data": {
            "text/plain": [
              "(1048052,)"
            ]
          },
          "metadata": {
            "tags": []
          },
          "execution_count": 98
        }
      ]
    },
    {
      "cell_type": "code",
      "metadata": {
        "id": "D-4FdFpb4wzF",
        "colab_type": "code",
        "outputId": "84efd0b8-3246-48ca-e639-5ea1de8b09b0",
        "colab": {
          "base_uri": "https://localhost:8080/",
          "height": 35
        }
      },
      "source": [
        "train_data = new_con\n",
        "train_data.shape"
      ],
      "execution_count": 0,
      "outputs": [
        {
          "output_type": "execute_result",
          "data": {
            "text/plain": [
              "(1048052, 19)"
            ]
          },
          "metadata": {
            "tags": []
          },
          "execution_count": 99
        }
      ]
    },
    {
      "cell_type": "markdown",
      "metadata": {
        "id": "3o3-yqvW9kWG",
        "colab_type": "text"
      },
      "source": [
        "### make a simple NN model with all dense layer with activation = relu"
      ]
    },
    {
      "cell_type": "code",
      "metadata": {
        "id": "JNFgyhlI1BOx",
        "colab_type": "code",
        "outputId": "94c0114b-6d90-406c-fe31-5386a5356952",
        "colab": {
          "base_uri": "https://localhost:8080/",
          "height": 635
        }
      },
      "source": [
        "model = Sequential()\n",
        "model.add(Dense(128,kernel_initializer='normal',input_dim=train_data.shape[1],activation='relu'))\n",
        "model.add(BatchNormalization(axis=-1))\n",
        "model.add(Dense(256,kernel_initializer='normal',activation='relu'))\n",
        "model.add(BatchNormalization(axis=-1))\n",
        "\n",
        "model.add(Dense(256,kernel_initializer='normal',activation='relu'))\n",
        "model.add(BatchNormalization(axis=-1))\n",
        "\n",
        "model.add(Dense(256,kernel_initializer='normal',activation='relu'))\n",
        "model.add(BatchNormalization(axis=-1))\n",
        "model.add(Dropout(0.2))\n",
        "#model.add(Dense(256,kernel_initializer='normal',activation='relu'))\n",
        "#model.add(Dense(128,kernel_initializer='normal',activation='relu'))\n",
        "#model.add(Dense(128,kernel_initializer='normal',activation='relu'))\n",
        "#modle.add(BatchNormalization(axis=-1))\n",
        "#model.add(Dense(128,kernel_initializer='normal',activation='relu'))\n",
        "#model.add(BatchNormalization(axis=-1))\n",
        "\n",
        "model.add(Dense(64,kernel_initializer='normal',activation='relu'))\n",
        "model.add(BatchNormalization(axis=-1))\n",
        "model.add(Dropout(0.2))\n",
        "model.add(Dense(1,kernel_initializer='normal',activation='linear'))\n",
        "model.compile(loss='mean_absolute_error',\n",
        "              optimizer='adam',\n",
        "              metrics=['mean_absolute_error'])\n",
        "model.summary()"
      ],
      "execution_count": 0,
      "outputs": [
        {
          "output_type": "stream",
          "text": [
            "Model: \"sequential_10\"\n",
            "_________________________________________________________________\n",
            "Layer (type)                 Output Shape              Param #   \n",
            "=================================================================\n",
            "dense_56 (Dense)             (None, 128)               2560      \n",
            "_________________________________________________________________\n",
            "batch_normalization_47 (Batc (None, 128)               512       \n",
            "_________________________________________________________________\n",
            "dense_57 (Dense)             (None, 256)               33024     \n",
            "_________________________________________________________________\n",
            "batch_normalization_48 (Batc (None, 256)               1024      \n",
            "_________________________________________________________________\n",
            "dense_58 (Dense)             (None, 256)               65792     \n",
            "_________________________________________________________________\n",
            "batch_normalization_49 (Batc (None, 256)               1024      \n",
            "_________________________________________________________________\n",
            "dense_59 (Dense)             (None, 256)               65792     \n",
            "_________________________________________________________________\n",
            "batch_normalization_50 (Batc (None, 256)               1024      \n",
            "_________________________________________________________________\n",
            "dropout_3 (Dropout)          (None, 256)               0         \n",
            "_________________________________________________________________\n",
            "dense_60 (Dense)             (None, 64)                16448     \n",
            "_________________________________________________________________\n",
            "batch_normalization_51 (Batc (None, 64)                256       \n",
            "_________________________________________________________________\n",
            "dropout_4 (Dropout)          (None, 64)                0         \n",
            "_________________________________________________________________\n",
            "dense_61 (Dense)             (None, 1)                 65        \n",
            "=================================================================\n",
            "Total params: 187,521\n",
            "Trainable params: 185,601\n",
            "Non-trainable params: 1,920\n",
            "_________________________________________________________________\n"
          ],
          "name": "stdout"
        }
      ]
    },
    {
      "cell_type": "code",
      "metadata": {
        "id": "hbeIGwrA5G9H",
        "colab_type": "code",
        "colab": {}
      },
      "source": [
        "checkpoint_name = 'Weights-{epoch:03d}--{val_loss:.5f}.hdf5' \n",
        "checkpoint = ModelCheckpoint(checkpoint_name, monitor='val_loss', verbose = 1, save_best_only = True, mode ='auto')\n",
        "callbacks_list = [checkpoint]"
      ],
      "execution_count": 0,
      "outputs": []
    },
    {
      "cell_type": "markdown",
      "metadata": {
        "id": "KjjhMgsH902N",
        "colab_type": "text"
      },
      "source": [
        "### train the model with split train and validation set 0.2"
      ]
    },
    {
      "cell_type": "code",
      "metadata": {
        "id": "o-hsbG5i53jE",
        "colab_type": "code",
        "outputId": "0b24e333-89c9-4072-9ca0-cdac7781511b",
        "colab": {
          "base_uri": "https://localhost:8080/",
          "height": 237
        }
      },
      "source": [
        "model.fit(train_data,target, \n",
        "          epochs=4,\n",
        "          batch_size=32,\n",
        "          validation_split = 0.1,\n",
        "          callbacks=callbacks_list)\n"
      ],
      "execution_count": 0,
      "outputs": [
        {
          "output_type": "stream",
          "text": [
            "Train on 943246 samples, validate on 104806 samples\n",
            "Epoch 1/4\n",
            "943246/943246 [==============================] - 557s 591us/step - loss: 3.1156 - mean_absolute_error: 3.1156 - val_loss: 3.0198 - val_mean_absolute_error: 3.0198\n",
            "\n",
            "Epoch 00001: val_loss improved from inf to 3.01984, saving model to Weights-001--3.01984.hdf5\n",
            "Epoch 2/4\n",
            "943246/943246 [==============================] - 557s 590us/step - loss: 2.8198 - mean_absolute_error: 2.8198 - val_loss: 3.0162 - val_mean_absolute_error: 3.0162\n",
            "\n",
            "Epoch 00002: val_loss improved from 3.01984 to 3.01624, saving model to Weights-002--3.01624.hdf5\n",
            "Epoch 3/4\n",
            "943246/943246 [==============================] - 540s 572us/step - loss: 2.7687 - mean_absolute_error: 2.7687 - val_loss: 2.7367 - val_mean_absolute_error: 2.7367\n",
            "\n",
            "Epoch 00003: val_loss improved from 3.01624 to 2.73667, saving model to Weights-003--2.73667.hdf5\n",
            "Epoch 4/4\n",
            "943246/943246 [==============================] - 547s 579us/step - loss: 2.7487 - mean_absolute_error: 2.7487 - val_loss: 3.6981 - val_mean_absolute_error: 3.6981\n",
            "\n",
            "Epoch 00004: val_loss did not improve from 2.73667\n"
          ],
          "name": "stdout"
        },
        {
          "output_type": "execute_result",
          "data": {
            "text/plain": [
              "<keras.callbacks.History at 0x7f00cacb2b00>"
            ]
          },
          "metadata": {
            "tags": []
          },
          "execution_count": 111
        }
      ]
    },
    {
      "cell_type": "markdown",
      "metadata": {
        "id": "BrzLdIIq-EJk",
        "colab_type": "text"
      },
      "source": [
        "### Training...."
      ]
    },
    {
      "cell_type": "code",
      "metadata": {
        "id": "DyyENOxboUcb",
        "colab_type": "code",
        "outputId": "24572af9-0fd4-458f-baf6-c4bcea54afed",
        "colab": {
          "base_uri": "https://localhost:8080/",
          "height": 292
        }
      },
      "source": [
        "model.fit(train_data,target,\n",
        "          epochs=4,\n",
        "          batch_size=32,\n",
        "          validation_split = 0.1,\n",
        "          callbacks=callbacks_list)"
      ],
      "execution_count": 0,
      "outputs": [
        {
          "output_type": "stream",
          "text": [
            "Train on 838441 samples, validate on 209611 samples\n",
            "Epoch 1/3\n",
            "838441/838441 [==============================] - 217s 259us/step - loss: 1.2848 - mean_absolute_error: 1.2848 - val_loss: 1.2436 - val_mean_absolute_error: 1.2436\n",
            "\n",
            "Epoch 00001: val_loss improved from 1.24628 to 1.24362, saving model to Weights-001--1.24362.hdf5\n",
            "Epoch 2/3\n",
            "838441/838441 [==============================] - 217s 259us/step - loss: 1.2750 - mean_absolute_error: 1.2750 - val_loss: 1.3073 - val_mean_absolute_error: 1.3073\n",
            "\n",
            "Epoch 00002: val_loss did not improve from 1.24362\n",
            "Epoch 3/3\n",
            "838441/838441 [==============================] - 216s 257us/step - loss: 1.2708 - mean_absolute_error: 1.2708 - val_loss: 1.2950 - val_mean_absolute_error: 1.2950\n",
            "\n",
            "Epoch 00003: val_loss did not improve from 1.24362\n"
          ],
          "name": "stdout"
        },
        {
          "output_type": "execute_result",
          "data": {
            "text/plain": [
              "<keras.callbacks.History at 0x7fc5dd408978>"
            ]
          },
          "metadata": {
            "tags": []
          },
          "execution_count": 24
        }
      ]
    },
    {
      "cell_type": "code",
      "metadata": {
        "id": "YmujUK-4fFpD",
        "colab_type": "code",
        "outputId": "01750cd1-f8bc-482b-c0bd-d89f121f8afb",
        "colab": {
          "base_uri": "https://localhost:8080/",
          "height": 437
        }
      },
      "source": [
        "model.fit(train_data,target,\n",
        "          epochs=5,\n",
        "          batch_size=32,\n",
        "          validation_split = 0.1,\n",
        "          callbacks=callbacks_list)"
      ],
      "execution_count": 0,
      "outputs": [
        {
          "output_type": "stream",
          "text": [
            "Train on 943246 samples, validate on 104806 samples\n",
            "Epoch 1/5\n",
            "943246/943246 [==============================] - 270s 287us/step - loss: 2.2756 - mean_absolute_error: 2.2756 - val_loss: 2.1244 - val_mean_absolute_error: 2.1244\n",
            "\n",
            "Epoch 00001: val_loss did not improve from 2.05260\n",
            "Epoch 2/5\n",
            "943246/943246 [==============================] - 272s 289us/step - loss: 2.2549 - mean_absolute_error: 2.2549 - val_loss: 2.4136 - val_mean_absolute_error: 2.4136\n",
            "\n",
            "Epoch 00002: val_loss did not improve from 2.05260\n",
            "Epoch 3/5\n",
            "943246/943246 [==============================] - 271s 287us/step - loss: 2.2447 - mean_absolute_error: 2.2447 - val_loss: 2.1659 - val_mean_absolute_error: 2.1659\n",
            "\n",
            "Epoch 00003: val_loss did not improve from 2.05260\n",
            "Epoch 4/5\n",
            "943246/943246 [==============================] - 264s 280us/step - loss: 2.2227 - mean_absolute_error: 2.2227 - val_loss: 2.6177 - val_mean_absolute_error: 2.6177\n",
            "\n",
            "Epoch 00004: val_loss did not improve from 2.05260\n",
            "Epoch 5/5\n",
            "943246/943246 [==============================] - 271s 288us/step - loss: 2.2106 - mean_absolute_error: 2.2106 - val_loss: 2.5317 - val_mean_absolute_error: 2.5317\n",
            "\n",
            "Epoch 00005: val_loss did not improve from 2.05260\n"
          ],
          "name": "stdout"
        },
        {
          "output_type": "execute_result",
          "data": {
            "text/plain": [
              "<keras.callbacks.History at 0x7f00ccc03160>"
            ]
          },
          "metadata": {
            "tags": []
          },
          "execution_count": 108
        }
      ]
    },
    {
      "cell_type": "markdown",
      "metadata": {
        "id": "sCqEXuPp-MVx",
        "colab_type": "text"
      },
      "source": [
        "## Test Part"
      ]
    },
    {
      "cell_type": "code",
      "metadata": {
        "id": "fTQ6_27y6A44",
        "colab_type": "code",
        "outputId": "30104070-218c-4e2e-950c-e6a391ff6794",
        "colab": {
          "base_uri": "https://localhost:8080/",
          "height": 408
        }
      },
      "source": [
        "test.head()"
      ],
      "execution_count": 0,
      "outputs": [
        {
          "output_type": "execute_result",
          "data": {
            "text/html": [
              "<div>\n",
              "<style scoped>\n",
              "    .dataframe tbody tr th:only-of-type {\n",
              "        vertical-align: middle;\n",
              "    }\n",
              "\n",
              "    .dataframe tbody tr th {\n",
              "        vertical-align: top;\n",
              "    }\n",
              "\n",
              "    .dataframe thead th {\n",
              "        text-align: right;\n",
              "    }\n",
              "</style>\n",
              "<table border=\"1\" class=\"dataframe\">\n",
              "  <thead>\n",
              "    <tr style=\"text-align: right;\">\n",
              "      <th></th>\n",
              "      <th>ID</th>\n",
              "      <th>vendor_id</th>\n",
              "      <th>pickup_loc</th>\n",
              "      <th>drop_loc</th>\n",
              "      <th>driver_tip</th>\n",
              "      <th>mta_tax</th>\n",
              "      <th>distance</th>\n",
              "      <th>pday</th>\n",
              "      <th>pmonth</th>\n",
              "      <th>#VALUE!</th>\n",
              "      <th>#VALUE!.1</th>\n",
              "      <th>0</th>\n",
              "      <th>0.1</th>\n",
              "      <th>0.2</th>\n",
              "      <th>0.3</th>\n",
              "      <th>#VALUE!.2</th>\n",
              "      <th>num_passengers</th>\n",
              "      <th>toll_amount</th>\n",
              "      <th>payment_method</th>\n",
              "      <th>rate_code</th>\n",
              "      <th>stored_flag</th>\n",
              "      <th>extra_charges</th>\n",
              "      <th>improvement_charge</th>\n",
              "      <th>pickup_tim</th>\n",
              "      <th>e</th>\n",
              "      <th>drop_time</th>\n",
              "      <th>Unnamed: 26</th>\n",
              "    </tr>\n",
              "  </thead>\n",
              "  <tbody>\n",
              "    <tr>\n",
              "      <th>0</th>\n",
              "      <td>0.0</td>\n",
              "      <td>1.0</td>\n",
              "      <td>68.0</td>\n",
              "      <td>186.0</td>\n",
              "      <td>1.00</td>\n",
              "      <td>0.5</td>\n",
              "      <td>0.70</td>\n",
              "      <td>4</td>\n",
              "      <td>5</td>\n",
              "      <td>5</td>\n",
              "      <td>49</td>\n",
              "      <td>0</td>\n",
              "      <td>5</td>\n",
              "      <td>54</td>\n",
              "      <td>0</td>\n",
              "      <td>300</td>\n",
              "      <td>1.0</td>\n",
              "      <td>0.0</td>\n",
              "      <td>1.0</td>\n",
              "      <td>1.0</td>\n",
              "      <td>N</td>\n",
              "      <td>0.5</td>\n",
              "      <td>0.3</td>\n",
              "      <td>04-05-2017 00:00</td>\n",
              "      <td>05:49:00</td>\n",
              "      <td>04-05-2017 00:00</td>\n",
              "      <td>05:54:00</td>\n",
              "    </tr>\n",
              "    <tr>\n",
              "      <th>1</th>\n",
              "      <td>1.0</td>\n",
              "      <td>1.0</td>\n",
              "      <td>170.0</td>\n",
              "      <td>161.0</td>\n",
              "      <td>2.55</td>\n",
              "      <td>0.5</td>\n",
              "      <td>1.00</td>\n",
              "      <td>4</td>\n",
              "      <td>7</td>\n",
              "      <td>8</td>\n",
              "      <td>57</td>\n",
              "      <td>0</td>\n",
              "      <td>9</td>\n",
              "      <td>16</td>\n",
              "      <td>0</td>\n",
              "      <td>1140</td>\n",
              "      <td>1.0</td>\n",
              "      <td>0.0</td>\n",
              "      <td>1.0</td>\n",
              "      <td>1.0</td>\n",
              "      <td>N</td>\n",
              "      <td>0.0</td>\n",
              "      <td>0.3</td>\n",
              "      <td>04-07-2017 00:00</td>\n",
              "      <td>08:57:00</td>\n",
              "      <td>04-07-2017 00:00</td>\n",
              "      <td>09:16:00</td>\n",
              "    </tr>\n",
              "    <tr>\n",
              "      <th>2</th>\n",
              "      <td>2.0</td>\n",
              "      <td>2.0</td>\n",
              "      <td>13.0</td>\n",
              "      <td>246.0</td>\n",
              "      <td>2.96</td>\n",
              "      <td>0.5</td>\n",
              "      <td>3.35</td>\n",
              "      <td>4</td>\n",
              "      <td>6</td>\n",
              "      <td>8</td>\n",
              "      <td>6</td>\n",
              "      <td>0</td>\n",
              "      <td>8</td>\n",
              "      <td>21</td>\n",
              "      <td>0</td>\n",
              "      <td>900</td>\n",
              "      <td>2.0</td>\n",
              "      <td>0.0</td>\n",
              "      <td>1.0</td>\n",
              "      <td>1.0</td>\n",
              "      <td>N</td>\n",
              "      <td>0.0</td>\n",
              "      <td>0.3</td>\n",
              "      <td>04-06-2017 00:00</td>\n",
              "      <td>08:06:00</td>\n",
              "      <td>04-06-2017 00:00</td>\n",
              "      <td>08:21:00</td>\n",
              "    </tr>\n",
              "    <tr>\n",
              "      <th>3</th>\n",
              "      <td>3.0</td>\n",
              "      <td>1.0</td>\n",
              "      <td>170.0</td>\n",
              "      <td>233.0</td>\n",
              "      <td>2.00</td>\n",
              "      <td>0.5</td>\n",
              "      <td>0.80</td>\n",
              "      <td>4</td>\n",
              "      <td>4</td>\n",
              "      <td>8</td>\n",
              "      <td>31</td>\n",
              "      <td>0</td>\n",
              "      <td>8</td>\n",
              "      <td>37</td>\n",
              "      <td>0</td>\n",
              "      <td>360</td>\n",
              "      <td>2.0</td>\n",
              "      <td>0.0</td>\n",
              "      <td>1.0</td>\n",
              "      <td>1.0</td>\n",
              "      <td>N</td>\n",
              "      <td>0.0</td>\n",
              "      <td>0.3</td>\n",
              "      <td>04-04-2017 00:00</td>\n",
              "      <td>08:31:00</td>\n",
              "      <td>04-04-2017 00:00</td>\n",
              "      <td>08:37:00</td>\n",
              "    </tr>\n",
              "    <tr>\n",
              "      <th>4</th>\n",
              "      <td>4.0</td>\n",
              "      <td>1.0</td>\n",
              "      <td>237.0</td>\n",
              "      <td>236.0</td>\n",
              "      <td>1.00</td>\n",
              "      <td>0.5</td>\n",
              "      <td>0.70</td>\n",
              "      <td>4</td>\n",
              "      <td>7</td>\n",
              "      <td>10</td>\n",
              "      <td>54</td>\n",
              "      <td>0</td>\n",
              "      <td>11</td>\n",
              "      <td>0</td>\n",
              "      <td>0</td>\n",
              "      <td>360</td>\n",
              "      <td>1.0</td>\n",
              "      <td>0.0</td>\n",
              "      <td>1.0</td>\n",
              "      <td>1.0</td>\n",
              "      <td>Y</td>\n",
              "      <td>0.0</td>\n",
              "      <td>0.3</td>\n",
              "      <td>04-07-2017 00:00</td>\n",
              "      <td>10:54:00</td>\n",
              "      <td>04-07-2017 00:00</td>\n",
              "      <td>11:00:00</td>\n",
              "    </tr>\n",
              "  </tbody>\n",
              "</table>\n",
              "</div>"
            ],
            "text/plain": [
              "    ID  vendor_id  pickup_loc  ...         e         drop_time  Unnamed: 26\n",
              "0  0.0        1.0        68.0  ...  05:49:00  04-05-2017 00:00     05:54:00\n",
              "1  1.0        1.0       170.0  ...  08:57:00  04-07-2017 00:00     09:16:00\n",
              "2  2.0        2.0        13.0  ...  08:06:00  04-06-2017 00:00     08:21:00\n",
              "3  3.0        1.0       170.0  ...  08:31:00  04-04-2017 00:00     08:37:00\n",
              "4  4.0        1.0       237.0  ...  10:54:00  04-07-2017 00:00     11:00:00\n",
              "\n",
              "[5 rows x 27 columns]"
            ]
          },
          "metadata": {
            "tags": []
          },
          "execution_count": 37
        }
      ]
    },
    {
      "cell_type": "markdown",
      "metadata": {
        "id": "H0lCP05i-RAR",
        "colab_type": "text"
      },
      "source": [
        "### make 2 data frames as in training data "
      ]
    },
    {
      "cell_type": "code",
      "metadata": {
        "id": "QxrfaN8HyVUj",
        "colab_type": "code",
        "colab": {}
      },
      "source": [
        "con = pd.DataFrame()\n",
        "num = pd.DataFrame()"
      ],
      "execution_count": 0,
      "outputs": []
    },
    {
      "cell_type": "markdown",
      "metadata": {
        "id": "iWaJiEyf-at-",
        "colab_type": "text"
      },
      "source": [
        "### add all continuous features in con data frame"
      ]
    },
    {
      "cell_type": "code",
      "metadata": {
        "id": "URvpvM2PynWj",
        "colab_type": "code",
        "colab": {}
      },
      "source": [
        "con['pickup_loc'] = test['pickup_loc']\n",
        "con['drop_loc'] = test['pickup_loc']\n",
        "con['distance'] = test['distance']\n",
        "con['driver_tip'] = test['driver_tip']\n",
        "con['toll_amount'] = test['toll_amount']"
      ],
      "execution_count": 0,
      "outputs": []
    },
    {
      "cell_type": "code",
      "metadata": {
        "id": "kmRQUrraywnu",
        "colab_type": "code",
        "outputId": "0f8151a2-fe90-4bcb-cf40-273235faad62",
        "colab": {
          "base_uri": "https://localhost:8080/",
          "height": 198
        }
      },
      "source": [
        "con.head()"
      ],
      "execution_count": 0,
      "outputs": [
        {
          "output_type": "execute_result",
          "data": {
            "text/html": [
              "<div>\n",
              "<style scoped>\n",
              "    .dataframe tbody tr th:only-of-type {\n",
              "        vertical-align: middle;\n",
              "    }\n",
              "\n",
              "    .dataframe tbody tr th {\n",
              "        vertical-align: top;\n",
              "    }\n",
              "\n",
              "    .dataframe thead th {\n",
              "        text-align: right;\n",
              "    }\n",
              "</style>\n",
              "<table border=\"1\" class=\"dataframe\">\n",
              "  <thead>\n",
              "    <tr style=\"text-align: right;\">\n",
              "      <th></th>\n",
              "      <th>pickup_loc</th>\n",
              "      <th>drop_loc</th>\n",
              "      <th>distance</th>\n",
              "      <th>driver_tip</th>\n",
              "      <th>toll_amount</th>\n",
              "    </tr>\n",
              "  </thead>\n",
              "  <tbody>\n",
              "    <tr>\n",
              "      <th>0</th>\n",
              "      <td>68.0</td>\n",
              "      <td>68.0</td>\n",
              "      <td>0.70</td>\n",
              "      <td>1.00</td>\n",
              "      <td>0.0</td>\n",
              "    </tr>\n",
              "    <tr>\n",
              "      <th>1</th>\n",
              "      <td>170.0</td>\n",
              "      <td>170.0</td>\n",
              "      <td>1.00</td>\n",
              "      <td>2.55</td>\n",
              "      <td>0.0</td>\n",
              "    </tr>\n",
              "    <tr>\n",
              "      <th>2</th>\n",
              "      <td>13.0</td>\n",
              "      <td>13.0</td>\n",
              "      <td>3.35</td>\n",
              "      <td>2.96</td>\n",
              "      <td>0.0</td>\n",
              "    </tr>\n",
              "    <tr>\n",
              "      <th>3</th>\n",
              "      <td>170.0</td>\n",
              "      <td>170.0</td>\n",
              "      <td>0.80</td>\n",
              "      <td>2.00</td>\n",
              "      <td>0.0</td>\n",
              "    </tr>\n",
              "    <tr>\n",
              "      <th>4</th>\n",
              "      <td>237.0</td>\n",
              "      <td>237.0</td>\n",
              "      <td>0.70</td>\n",
              "      <td>1.00</td>\n",
              "      <td>0.0</td>\n",
              "    </tr>\n",
              "  </tbody>\n",
              "</table>\n",
              "</div>"
            ],
            "text/plain": [
              "   pickup_loc  drop_loc  distance  driver_tip  toll_amount\n",
              "0        68.0      68.0      0.70        1.00          0.0\n",
              "1       170.0     170.0      1.00        2.55          0.0\n",
              "2        13.0      13.0      3.35        2.96          0.0\n",
              "3       170.0     170.0      0.80        2.00          0.0\n",
              "4       237.0     237.0      0.70        1.00          0.0"
            ]
          },
          "metadata": {
            "tags": []
          },
          "execution_count": 40
        }
      ]
    },
    {
      "cell_type": "markdown",
      "metadata": {
        "id": "3pjHcrnQ-iId",
        "colab_type": "text"
      },
      "source": [
        "### add all numeric features in num data frame"
      ]
    },
    {
      "cell_type": "code",
      "metadata": {
        "id": "PhwaMRWdyyuV",
        "colab_type": "code",
        "colab": {}
      },
      "source": [
        "num['tax'] = test['mta_tax']\n",
        "num['payment_method']= test['payment_method']\n",
        "num['rate_code'] = test['rate_code']\n",
        "num['extra_charges'] = test['extra_charges']"
      ],
      "execution_count": 0,
      "outputs": []
    },
    {
      "cell_type": "code",
      "metadata": {
        "id": "6spiGftMzFZa",
        "colab_type": "code",
        "outputId": "8d17e2da-b007-4078-83da-3048bc3c948f",
        "colab": {
          "base_uri": "https://localhost:8080/",
          "height": 198
        }
      },
      "source": [
        "num.head()"
      ],
      "execution_count": 0,
      "outputs": [
        {
          "output_type": "execute_result",
          "data": {
            "text/html": [
              "<div>\n",
              "<style scoped>\n",
              "    .dataframe tbody tr th:only-of-type {\n",
              "        vertical-align: middle;\n",
              "    }\n",
              "\n",
              "    .dataframe tbody tr th {\n",
              "        vertical-align: top;\n",
              "    }\n",
              "\n",
              "    .dataframe thead th {\n",
              "        text-align: right;\n",
              "    }\n",
              "</style>\n",
              "<table border=\"1\" class=\"dataframe\">\n",
              "  <thead>\n",
              "    <tr style=\"text-align: right;\">\n",
              "      <th></th>\n",
              "      <th>tax</th>\n",
              "      <th>payment_method</th>\n",
              "      <th>rate_code</th>\n",
              "      <th>extra_charges</th>\n",
              "    </tr>\n",
              "  </thead>\n",
              "  <tbody>\n",
              "    <tr>\n",
              "      <th>0</th>\n",
              "      <td>0.5</td>\n",
              "      <td>1.0</td>\n",
              "      <td>1.0</td>\n",
              "      <td>0.5</td>\n",
              "    </tr>\n",
              "    <tr>\n",
              "      <th>1</th>\n",
              "      <td>0.5</td>\n",
              "      <td>1.0</td>\n",
              "      <td>1.0</td>\n",
              "      <td>0.0</td>\n",
              "    </tr>\n",
              "    <tr>\n",
              "      <th>2</th>\n",
              "      <td>0.5</td>\n",
              "      <td>1.0</td>\n",
              "      <td>1.0</td>\n",
              "      <td>0.0</td>\n",
              "    </tr>\n",
              "    <tr>\n",
              "      <th>3</th>\n",
              "      <td>0.5</td>\n",
              "      <td>1.0</td>\n",
              "      <td>1.0</td>\n",
              "      <td>0.0</td>\n",
              "    </tr>\n",
              "    <tr>\n",
              "      <th>4</th>\n",
              "      <td>0.5</td>\n",
              "      <td>1.0</td>\n",
              "      <td>1.0</td>\n",
              "      <td>0.0</td>\n",
              "    </tr>\n",
              "  </tbody>\n",
              "</table>\n",
              "</div>"
            ],
            "text/plain": [
              "   tax  payment_method  rate_code  extra_charges\n",
              "0  0.5             1.0        1.0            0.5\n",
              "1  0.5             1.0        1.0            0.0\n",
              "2  0.5             1.0        1.0            0.0\n",
              "3  0.5             1.0        1.0            0.0\n",
              "4  0.5             1.0        1.0            0.0"
            ]
          },
          "metadata": {
            "tags": []
          },
          "execution_count": 42
        }
      ]
    },
    {
      "cell_type": "markdown",
      "metadata": {
        "id": "3nkTVP1H-oWd",
        "colab_type": "text"
      },
      "source": [
        "### split all the numeric features"
      ]
    },
    {
      "cell_type": "code",
      "metadata": {
        "id": "U1VyFplozPe3",
        "colab_type": "code",
        "outputId": "5d6865f5-940b-458c-ddd1-5996678b78d6",
        "colab": {
          "base_uri": "https://localhost:8080/",
          "height": 198
        }
      },
      "source": [
        "\n",
        "dummies = pd.get_dummies(num['tax'],prefix='tax')\n",
        "dummies.drop(['tax_-0.5'],axis=1,inplace=True)\n",
        "con = pd.concat([con,dummies],axis=1)\n",
        "#con.drop(['tax_-0.5'],axis=1,inplace=True)\n",
        "con.head()\n"
      ],
      "execution_count": 0,
      "outputs": [
        {
          "output_type": "execute_result",
          "data": {
            "text/html": [
              "<div>\n",
              "<style scoped>\n",
              "    .dataframe tbody tr th:only-of-type {\n",
              "        vertical-align: middle;\n",
              "    }\n",
              "\n",
              "    .dataframe tbody tr th {\n",
              "        vertical-align: top;\n",
              "    }\n",
              "\n",
              "    .dataframe thead th {\n",
              "        text-align: right;\n",
              "    }\n",
              "</style>\n",
              "<table border=\"1\" class=\"dataframe\">\n",
              "  <thead>\n",
              "    <tr style=\"text-align: right;\">\n",
              "      <th></th>\n",
              "      <th>pickup_loc</th>\n",
              "      <th>drop_loc</th>\n",
              "      <th>distance</th>\n",
              "      <th>driver_tip</th>\n",
              "      <th>toll_amount</th>\n",
              "      <th>tax_0.0</th>\n",
              "      <th>tax_0.5</th>\n",
              "    </tr>\n",
              "  </thead>\n",
              "  <tbody>\n",
              "    <tr>\n",
              "      <th>0</th>\n",
              "      <td>68.0</td>\n",
              "      <td>68.0</td>\n",
              "      <td>0.70</td>\n",
              "      <td>1.00</td>\n",
              "      <td>0.0</td>\n",
              "      <td>0</td>\n",
              "      <td>1</td>\n",
              "    </tr>\n",
              "    <tr>\n",
              "      <th>1</th>\n",
              "      <td>170.0</td>\n",
              "      <td>170.0</td>\n",
              "      <td>1.00</td>\n",
              "      <td>2.55</td>\n",
              "      <td>0.0</td>\n",
              "      <td>0</td>\n",
              "      <td>1</td>\n",
              "    </tr>\n",
              "    <tr>\n",
              "      <th>2</th>\n",
              "      <td>13.0</td>\n",
              "      <td>13.0</td>\n",
              "      <td>3.35</td>\n",
              "      <td>2.96</td>\n",
              "      <td>0.0</td>\n",
              "      <td>0</td>\n",
              "      <td>1</td>\n",
              "    </tr>\n",
              "    <tr>\n",
              "      <th>3</th>\n",
              "      <td>170.0</td>\n",
              "      <td>170.0</td>\n",
              "      <td>0.80</td>\n",
              "      <td>2.00</td>\n",
              "      <td>0.0</td>\n",
              "      <td>0</td>\n",
              "      <td>1</td>\n",
              "    </tr>\n",
              "    <tr>\n",
              "      <th>4</th>\n",
              "      <td>237.0</td>\n",
              "      <td>237.0</td>\n",
              "      <td>0.70</td>\n",
              "      <td>1.00</td>\n",
              "      <td>0.0</td>\n",
              "      <td>0</td>\n",
              "      <td>1</td>\n",
              "    </tr>\n",
              "  </tbody>\n",
              "</table>\n",
              "</div>"
            ],
            "text/plain": [
              "   pickup_loc  drop_loc  distance  driver_tip  toll_amount  tax_0.0  tax_0.5\n",
              "0        68.0      68.0      0.70        1.00          0.0        0        1\n",
              "1       170.0     170.0      1.00        2.55          0.0        0        1\n",
              "2        13.0      13.0      3.35        2.96          0.0        0        1\n",
              "3       170.0     170.0      0.80        2.00          0.0        0        1\n",
              "4       237.0     237.0      0.70        1.00          0.0        0        1"
            ]
          },
          "metadata": {
            "tags": []
          },
          "execution_count": 43
        }
      ]
    },
    {
      "cell_type": "code",
      "metadata": {
        "id": "dqMHWK7o2i6o",
        "colab_type": "code",
        "outputId": "7dd66780-ea23-4a0e-d47d-a7c5651560c3",
        "colab": {
          "base_uri": "https://localhost:8080/",
          "height": 218
        }
      },
      "source": [
        "ab = []\n",
        "for j in num['payment_method']:\n",
        "  ab.append(int(j))\n",
        "num['payment_method'] = ab\n",
        "dummies = pd.get_dummies(num['payment_method'],prefix='payment_method')\n",
        "con = pd.concat([con,dummies],axis=1)\n",
        "con.head()"
      ],
      "execution_count": 0,
      "outputs": [
        {
          "output_type": "execute_result",
          "data": {
            "text/html": [
              "<div>\n",
              "<style scoped>\n",
              "    .dataframe tbody tr th:only-of-type {\n",
              "        vertical-align: middle;\n",
              "    }\n",
              "\n",
              "    .dataframe tbody tr th {\n",
              "        vertical-align: top;\n",
              "    }\n",
              "\n",
              "    .dataframe thead th {\n",
              "        text-align: right;\n",
              "    }\n",
              "</style>\n",
              "<table border=\"1\" class=\"dataframe\">\n",
              "  <thead>\n",
              "    <tr style=\"text-align: right;\">\n",
              "      <th></th>\n",
              "      <th>pickup_loc</th>\n",
              "      <th>drop_loc</th>\n",
              "      <th>distance</th>\n",
              "      <th>driver_tip</th>\n",
              "      <th>toll_amount</th>\n",
              "      <th>tax_0.0</th>\n",
              "      <th>tax_0.5</th>\n",
              "      <th>payment_method_1</th>\n",
              "      <th>payment_method_2</th>\n",
              "      <th>payment_method_3</th>\n",
              "      <th>payment_method_4</th>\n",
              "    </tr>\n",
              "  </thead>\n",
              "  <tbody>\n",
              "    <tr>\n",
              "      <th>0</th>\n",
              "      <td>68.0</td>\n",
              "      <td>68.0</td>\n",
              "      <td>0.70</td>\n",
              "      <td>1.00</td>\n",
              "      <td>0.0</td>\n",
              "      <td>0</td>\n",
              "      <td>1</td>\n",
              "      <td>1</td>\n",
              "      <td>0</td>\n",
              "      <td>0</td>\n",
              "      <td>0</td>\n",
              "    </tr>\n",
              "    <tr>\n",
              "      <th>1</th>\n",
              "      <td>170.0</td>\n",
              "      <td>170.0</td>\n",
              "      <td>1.00</td>\n",
              "      <td>2.55</td>\n",
              "      <td>0.0</td>\n",
              "      <td>0</td>\n",
              "      <td>1</td>\n",
              "      <td>1</td>\n",
              "      <td>0</td>\n",
              "      <td>0</td>\n",
              "      <td>0</td>\n",
              "    </tr>\n",
              "    <tr>\n",
              "      <th>2</th>\n",
              "      <td>13.0</td>\n",
              "      <td>13.0</td>\n",
              "      <td>3.35</td>\n",
              "      <td>2.96</td>\n",
              "      <td>0.0</td>\n",
              "      <td>0</td>\n",
              "      <td>1</td>\n",
              "      <td>1</td>\n",
              "      <td>0</td>\n",
              "      <td>0</td>\n",
              "      <td>0</td>\n",
              "    </tr>\n",
              "    <tr>\n",
              "      <th>3</th>\n",
              "      <td>170.0</td>\n",
              "      <td>170.0</td>\n",
              "      <td>0.80</td>\n",
              "      <td>2.00</td>\n",
              "      <td>0.0</td>\n",
              "      <td>0</td>\n",
              "      <td>1</td>\n",
              "      <td>1</td>\n",
              "      <td>0</td>\n",
              "      <td>0</td>\n",
              "      <td>0</td>\n",
              "    </tr>\n",
              "    <tr>\n",
              "      <th>4</th>\n",
              "      <td>237.0</td>\n",
              "      <td>237.0</td>\n",
              "      <td>0.70</td>\n",
              "      <td>1.00</td>\n",
              "      <td>0.0</td>\n",
              "      <td>0</td>\n",
              "      <td>1</td>\n",
              "      <td>1</td>\n",
              "      <td>0</td>\n",
              "      <td>0</td>\n",
              "      <td>0</td>\n",
              "    </tr>\n",
              "  </tbody>\n",
              "</table>\n",
              "</div>"
            ],
            "text/plain": [
              "   pickup_loc  drop_loc  ...  payment_method_3  payment_method_4\n",
              "0        68.0      68.0  ...                 0                 0\n",
              "1       170.0     170.0  ...                 0                 0\n",
              "2        13.0      13.0  ...                 0                 0\n",
              "3       170.0     170.0  ...                 0                 0\n",
              "4       237.0     237.0  ...                 0                 0\n",
              "\n",
              "[5 rows x 11 columns]"
            ]
          },
          "metadata": {
            "tags": []
          },
          "execution_count": 44
        }
      ]
    },
    {
      "cell_type": "code",
      "metadata": {
        "id": "E_5e_MPH3Awn",
        "colab_type": "code",
        "outputId": "78ff7696-e725-4309-f3e9-78c9d6d487cc",
        "colab": {
          "base_uri": "https://localhost:8080/",
          "height": 218
        }
      },
      "source": [
        "ab = []\n",
        "for j in num['rate_code']:\n",
        "  ab.append(int(j))\n",
        "num['rate_code'] = ab\n",
        "dummies = pd.get_dummies(num['rate_code'],prefix='rate_code')\n",
        "con = pd.concat([con,dummies],axis=1)\n",
        "con.head()"
      ],
      "execution_count": 0,
      "outputs": [
        {
          "output_type": "execute_result",
          "data": {
            "text/html": [
              "<div>\n",
              "<style scoped>\n",
              "    .dataframe tbody tr th:only-of-type {\n",
              "        vertical-align: middle;\n",
              "    }\n",
              "\n",
              "    .dataframe tbody tr th {\n",
              "        vertical-align: top;\n",
              "    }\n",
              "\n",
              "    .dataframe thead th {\n",
              "        text-align: right;\n",
              "    }\n",
              "</style>\n",
              "<table border=\"1\" class=\"dataframe\">\n",
              "  <thead>\n",
              "    <tr style=\"text-align: right;\">\n",
              "      <th></th>\n",
              "      <th>pickup_loc</th>\n",
              "      <th>drop_loc</th>\n",
              "      <th>distance</th>\n",
              "      <th>driver_tip</th>\n",
              "      <th>toll_amount</th>\n",
              "      <th>tax_0.0</th>\n",
              "      <th>tax_0.5</th>\n",
              "      <th>payment_method_1</th>\n",
              "      <th>payment_method_2</th>\n",
              "      <th>payment_method_3</th>\n",
              "      <th>payment_method_4</th>\n",
              "      <th>rate_code_1</th>\n",
              "      <th>rate_code_2</th>\n",
              "      <th>rate_code_3</th>\n",
              "      <th>rate_code_4</th>\n",
              "      <th>rate_code_5</th>\n",
              "      <th>rate_code_6</th>\n",
              "      <th>rate_code_99</th>\n",
              "    </tr>\n",
              "  </thead>\n",
              "  <tbody>\n",
              "    <tr>\n",
              "      <th>0</th>\n",
              "      <td>68.0</td>\n",
              "      <td>68.0</td>\n",
              "      <td>0.70</td>\n",
              "      <td>1.00</td>\n",
              "      <td>0.0</td>\n",
              "      <td>0</td>\n",
              "      <td>1</td>\n",
              "      <td>1</td>\n",
              "      <td>0</td>\n",
              "      <td>0</td>\n",
              "      <td>0</td>\n",
              "      <td>1</td>\n",
              "      <td>0</td>\n",
              "      <td>0</td>\n",
              "      <td>0</td>\n",
              "      <td>0</td>\n",
              "      <td>0</td>\n",
              "      <td>0</td>\n",
              "    </tr>\n",
              "    <tr>\n",
              "      <th>1</th>\n",
              "      <td>170.0</td>\n",
              "      <td>170.0</td>\n",
              "      <td>1.00</td>\n",
              "      <td>2.55</td>\n",
              "      <td>0.0</td>\n",
              "      <td>0</td>\n",
              "      <td>1</td>\n",
              "      <td>1</td>\n",
              "      <td>0</td>\n",
              "      <td>0</td>\n",
              "      <td>0</td>\n",
              "      <td>1</td>\n",
              "      <td>0</td>\n",
              "      <td>0</td>\n",
              "      <td>0</td>\n",
              "      <td>0</td>\n",
              "      <td>0</td>\n",
              "      <td>0</td>\n",
              "    </tr>\n",
              "    <tr>\n",
              "      <th>2</th>\n",
              "      <td>13.0</td>\n",
              "      <td>13.0</td>\n",
              "      <td>3.35</td>\n",
              "      <td>2.96</td>\n",
              "      <td>0.0</td>\n",
              "      <td>0</td>\n",
              "      <td>1</td>\n",
              "      <td>1</td>\n",
              "      <td>0</td>\n",
              "      <td>0</td>\n",
              "      <td>0</td>\n",
              "      <td>1</td>\n",
              "      <td>0</td>\n",
              "      <td>0</td>\n",
              "      <td>0</td>\n",
              "      <td>0</td>\n",
              "      <td>0</td>\n",
              "      <td>0</td>\n",
              "    </tr>\n",
              "    <tr>\n",
              "      <th>3</th>\n",
              "      <td>170.0</td>\n",
              "      <td>170.0</td>\n",
              "      <td>0.80</td>\n",
              "      <td>2.00</td>\n",
              "      <td>0.0</td>\n",
              "      <td>0</td>\n",
              "      <td>1</td>\n",
              "      <td>1</td>\n",
              "      <td>0</td>\n",
              "      <td>0</td>\n",
              "      <td>0</td>\n",
              "      <td>1</td>\n",
              "      <td>0</td>\n",
              "      <td>0</td>\n",
              "      <td>0</td>\n",
              "      <td>0</td>\n",
              "      <td>0</td>\n",
              "      <td>0</td>\n",
              "    </tr>\n",
              "    <tr>\n",
              "      <th>4</th>\n",
              "      <td>237.0</td>\n",
              "      <td>237.0</td>\n",
              "      <td>0.70</td>\n",
              "      <td>1.00</td>\n",
              "      <td>0.0</td>\n",
              "      <td>0</td>\n",
              "      <td>1</td>\n",
              "      <td>1</td>\n",
              "      <td>0</td>\n",
              "      <td>0</td>\n",
              "      <td>0</td>\n",
              "      <td>1</td>\n",
              "      <td>0</td>\n",
              "      <td>0</td>\n",
              "      <td>0</td>\n",
              "      <td>0</td>\n",
              "      <td>0</td>\n",
              "      <td>0</td>\n",
              "    </tr>\n",
              "  </tbody>\n",
              "</table>\n",
              "</div>"
            ],
            "text/plain": [
              "   pickup_loc  drop_loc  distance  ...  rate_code_5  rate_code_6  rate_code_99\n",
              "0        68.0      68.0      0.70  ...            0            0             0\n",
              "1       170.0     170.0      1.00  ...            0            0             0\n",
              "2        13.0      13.0      3.35  ...            0            0             0\n",
              "3       170.0     170.0      0.80  ...            0            0             0\n",
              "4       237.0     237.0      0.70  ...            0            0             0\n",
              "\n",
              "[5 rows x 18 columns]"
            ]
          },
          "metadata": {
            "tags": []
          },
          "execution_count": 45
        }
      ]
    },
    {
      "cell_type": "code",
      "metadata": {
        "id": "hnty_TYh3QrS",
        "colab_type": "code",
        "outputId": "aa82a0be-85ab-4052-9960-1431cc15e03a",
        "colab": {
          "base_uri": "https://localhost:8080/",
          "height": 218
        }
      },
      "source": [
        "#dummies = pd.get_dummies(num['extra_charges'],prefix='extra_charges')\n",
        "#con = pd.concat([con,dummies],axis=1)\n",
        "con['extra_charges'] = num['extra_charges']\n",
        "con.head()"
      ],
      "execution_count": 0,
      "outputs": [
        {
          "output_type": "execute_result",
          "data": {
            "text/html": [
              "<div>\n",
              "<style scoped>\n",
              "    .dataframe tbody tr th:only-of-type {\n",
              "        vertical-align: middle;\n",
              "    }\n",
              "\n",
              "    .dataframe tbody tr th {\n",
              "        vertical-align: top;\n",
              "    }\n",
              "\n",
              "    .dataframe thead th {\n",
              "        text-align: right;\n",
              "    }\n",
              "</style>\n",
              "<table border=\"1\" class=\"dataframe\">\n",
              "  <thead>\n",
              "    <tr style=\"text-align: right;\">\n",
              "      <th></th>\n",
              "      <th>pickup_loc</th>\n",
              "      <th>drop_loc</th>\n",
              "      <th>distance</th>\n",
              "      <th>driver_tip</th>\n",
              "      <th>toll_amount</th>\n",
              "      <th>tax_0.0</th>\n",
              "      <th>tax_0.5</th>\n",
              "      <th>payment_method_1</th>\n",
              "      <th>payment_method_2</th>\n",
              "      <th>payment_method_3</th>\n",
              "      <th>payment_method_4</th>\n",
              "      <th>rate_code_1</th>\n",
              "      <th>rate_code_2</th>\n",
              "      <th>rate_code_3</th>\n",
              "      <th>rate_code_4</th>\n",
              "      <th>rate_code_5</th>\n",
              "      <th>rate_code_6</th>\n",
              "      <th>rate_code_99</th>\n",
              "      <th>extra_charges</th>\n",
              "    </tr>\n",
              "  </thead>\n",
              "  <tbody>\n",
              "    <tr>\n",
              "      <th>0</th>\n",
              "      <td>68.0</td>\n",
              "      <td>68.0</td>\n",
              "      <td>0.70</td>\n",
              "      <td>1.00</td>\n",
              "      <td>0.0</td>\n",
              "      <td>0</td>\n",
              "      <td>1</td>\n",
              "      <td>1</td>\n",
              "      <td>0</td>\n",
              "      <td>0</td>\n",
              "      <td>0</td>\n",
              "      <td>1</td>\n",
              "      <td>0</td>\n",
              "      <td>0</td>\n",
              "      <td>0</td>\n",
              "      <td>0</td>\n",
              "      <td>0</td>\n",
              "      <td>0</td>\n",
              "      <td>0.5</td>\n",
              "    </tr>\n",
              "    <tr>\n",
              "      <th>1</th>\n",
              "      <td>170.0</td>\n",
              "      <td>170.0</td>\n",
              "      <td>1.00</td>\n",
              "      <td>2.55</td>\n",
              "      <td>0.0</td>\n",
              "      <td>0</td>\n",
              "      <td>1</td>\n",
              "      <td>1</td>\n",
              "      <td>0</td>\n",
              "      <td>0</td>\n",
              "      <td>0</td>\n",
              "      <td>1</td>\n",
              "      <td>0</td>\n",
              "      <td>0</td>\n",
              "      <td>0</td>\n",
              "      <td>0</td>\n",
              "      <td>0</td>\n",
              "      <td>0</td>\n",
              "      <td>0.0</td>\n",
              "    </tr>\n",
              "    <tr>\n",
              "      <th>2</th>\n",
              "      <td>13.0</td>\n",
              "      <td>13.0</td>\n",
              "      <td>3.35</td>\n",
              "      <td>2.96</td>\n",
              "      <td>0.0</td>\n",
              "      <td>0</td>\n",
              "      <td>1</td>\n",
              "      <td>1</td>\n",
              "      <td>0</td>\n",
              "      <td>0</td>\n",
              "      <td>0</td>\n",
              "      <td>1</td>\n",
              "      <td>0</td>\n",
              "      <td>0</td>\n",
              "      <td>0</td>\n",
              "      <td>0</td>\n",
              "      <td>0</td>\n",
              "      <td>0</td>\n",
              "      <td>0.0</td>\n",
              "    </tr>\n",
              "    <tr>\n",
              "      <th>3</th>\n",
              "      <td>170.0</td>\n",
              "      <td>170.0</td>\n",
              "      <td>0.80</td>\n",
              "      <td>2.00</td>\n",
              "      <td>0.0</td>\n",
              "      <td>0</td>\n",
              "      <td>1</td>\n",
              "      <td>1</td>\n",
              "      <td>0</td>\n",
              "      <td>0</td>\n",
              "      <td>0</td>\n",
              "      <td>1</td>\n",
              "      <td>0</td>\n",
              "      <td>0</td>\n",
              "      <td>0</td>\n",
              "      <td>0</td>\n",
              "      <td>0</td>\n",
              "      <td>0</td>\n",
              "      <td>0.0</td>\n",
              "    </tr>\n",
              "    <tr>\n",
              "      <th>4</th>\n",
              "      <td>237.0</td>\n",
              "      <td>237.0</td>\n",
              "      <td>0.70</td>\n",
              "      <td>1.00</td>\n",
              "      <td>0.0</td>\n",
              "      <td>0</td>\n",
              "      <td>1</td>\n",
              "      <td>1</td>\n",
              "      <td>0</td>\n",
              "      <td>0</td>\n",
              "      <td>0</td>\n",
              "      <td>1</td>\n",
              "      <td>0</td>\n",
              "      <td>0</td>\n",
              "      <td>0</td>\n",
              "      <td>0</td>\n",
              "      <td>0</td>\n",
              "      <td>0</td>\n",
              "      <td>0.0</td>\n",
              "    </tr>\n",
              "  </tbody>\n",
              "</table>\n",
              "</div>"
            ],
            "text/plain": [
              "   pickup_loc  drop_loc  distance  ...  rate_code_6  rate_code_99  extra_charges\n",
              "0        68.0      68.0      0.70  ...            0             0            0.5\n",
              "1       170.0     170.0      1.00  ...            0             0            0.0\n",
              "2        13.0      13.0      3.35  ...            0             0            0.0\n",
              "3       170.0     170.0      0.80  ...            0             0            0.0\n",
              "4       237.0     237.0      0.70  ...            0             0            0.0\n",
              "\n",
              "[5 rows x 19 columns]"
            ]
          },
          "metadata": {
            "tags": []
          },
          "execution_count": 46
        }
      ]
    },
    {
      "cell_type": "code",
      "metadata": {
        "id": "hFMblTUU-B-I",
        "colab_type": "code",
        "outputId": "dd9a03bf-9192-4148-bce5-f62e2c106f67",
        "colab": {
          "base_uri": "https://localhost:8080/",
          "height": 35
        }
      },
      "source": [
        "con.shape"
      ],
      "execution_count": 0,
      "outputs": [
        {
          "output_type": "execute_result",
          "data": {
            "text/plain": [
              "(154235, 19)"
            ]
          },
          "metadata": {
            "tags": []
          },
          "execution_count": 47
        }
      ]
    },
    {
      "cell_type": "markdown",
      "metadata": {
        "id": "sD2j_lMm-zdo",
        "colab_type": "text"
      },
      "source": [
        "### Predicting the output for test data"
      ]
    },
    {
      "cell_type": "code",
      "metadata": {
        "id": "-NJnE9vezcMg",
        "colab_type": "code",
        "colab": {}
      },
      "source": [
        "predictions = model.predict(con)"
      ],
      "execution_count": 0,
      "outputs": []
    },
    {
      "cell_type": "code",
      "metadata": {
        "id": "202RSKbt-i7v",
        "colab_type": "code",
        "outputId": "0e93d779-8255-407c-cc98-33f760581451",
        "colab": {
          "base_uri": "https://localhost:8080/",
          "height": 145
        }
      },
      "source": [
        "predictions"
      ],
      "execution_count": 0,
      "outputs": [
        {
          "output_type": "execute_result",
          "data": {
            "text/plain": [
              "array([[ 7.918237],\n",
              "       [10.982791],\n",
              "       [17.034882],\n",
              "       ...,\n",
              "       [10.408308],\n",
              "       [13.937889],\n",
              "       [12.362257]], dtype=float32)"
            ]
          },
          "metadata": {
            "tags": []
          },
          "execution_count": 49
        }
      ]
    },
    {
      "cell_type": "code",
      "metadata": {
        "id": "MEmKR1hw-7ZE",
        "colab_type": "code",
        "outputId": "7ec0d878-043b-4ae4-fbe5-f0163cacf91f",
        "colab": {
          "base_uri": "https://localhost:8080/",
          "height": 198
        }
      },
      "source": [
        "Id = pd.DataFrame(test.ID)\n",
        "Id.head()"
      ],
      "execution_count": 0,
      "outputs": [
        {
          "output_type": "execute_result",
          "data": {
            "text/html": [
              "<div>\n",
              "<style scoped>\n",
              "    .dataframe tbody tr th:only-of-type {\n",
              "        vertical-align: middle;\n",
              "    }\n",
              "\n",
              "    .dataframe tbody tr th {\n",
              "        vertical-align: top;\n",
              "    }\n",
              "\n",
              "    .dataframe thead th {\n",
              "        text-align: right;\n",
              "    }\n",
              "</style>\n",
              "<table border=\"1\" class=\"dataframe\">\n",
              "  <thead>\n",
              "    <tr style=\"text-align: right;\">\n",
              "      <th></th>\n",
              "      <th>ID</th>\n",
              "    </tr>\n",
              "  </thead>\n",
              "  <tbody>\n",
              "    <tr>\n",
              "      <th>0</th>\n",
              "      <td>0.0</td>\n",
              "    </tr>\n",
              "    <tr>\n",
              "      <th>1</th>\n",
              "      <td>1.0</td>\n",
              "    </tr>\n",
              "    <tr>\n",
              "      <th>2</th>\n",
              "      <td>2.0</td>\n",
              "    </tr>\n",
              "    <tr>\n",
              "      <th>3</th>\n",
              "      <td>3.0</td>\n",
              "    </tr>\n",
              "    <tr>\n",
              "      <th>4</th>\n",
              "      <td>4.0</td>\n",
              "    </tr>\n",
              "  </tbody>\n",
              "</table>\n",
              "</div>"
            ],
            "text/plain": [
              "    ID\n",
              "0  0.0\n",
              "1  1.0\n",
              "2  2.0\n",
              "3  3.0\n",
              "4  4.0"
            ]
          },
          "metadata": {
            "tags": []
          },
          "execution_count": 50
        }
      ]
    },
    {
      "cell_type": "markdown",
      "metadata": {
        "id": "VIOYQ4YV--VR",
        "colab_type": "text"
      },
      "source": [
        "### Make a .csv file to upload"
      ]
    },
    {
      "cell_type": "code",
      "metadata": {
        "id": "p8AYRzVJ_isk",
        "colab_type": "code",
        "colab": {}
      },
      "source": [
        "import csv\n",
        "os.chdir(\"/content/drive/My Drive/\")\n",
        "with open('result_ola3.csv','w') as f:\n",
        "    writer = csv.writer(f)\n",
        "    writer.writerow(['ID','total_amount'])\n",
        "i =0\n",
        "with open('result_ola3.csv','a') as f:\n",
        "    for x in predictions:\n",
        "        f.write(\"%s,%s\\n\"%(i,x[0]))\n",
        "        i+=1"
      ],
      "execution_count": 0,
      "outputs": []
    },
    {
      "cell_type": "code",
      "metadata": {
        "id": "-9el3Nmgz_mS",
        "colab_type": "code",
        "colab": {}
      },
      "source": [
        ""
      ],
      "execution_count": 0,
      "outputs": []
    },
    {
      "cell_type": "markdown",
      "metadata": {
        "id": "64J7ycMt_KkH",
        "colab_type": "text"
      },
      "source": [
        "##install catboost"
      ]
    },
    {
      "cell_type": "code",
      "metadata": {
        "id": "E9L9kJHEEmDm",
        "colab_type": "code",
        "outputId": "c28eef8d-6c31-43c7-908c-c96bcf6eab99",
        "colab": {
          "base_uri": "https://localhost:8080/",
          "height": 383
        }
      },
      "source": [
        "!pip install catboost"
      ],
      "execution_count": 0,
      "outputs": [
        {
          "output_type": "stream",
          "text": [
            "Collecting catboost\n",
            "\u001b[?25l  Downloading https://files.pythonhosted.org/packages/40/83/5974e19d4d040442543e1e4eafa5ebb1c7ef396cbc53ea1084193d311d62/catboost-0.17.1-cp36-none-manylinux1_x86_64.whl (62.5MB)\n",
            "\u001b[K     |████████████████████████████████| 62.5MB 45.0MB/s \n",
            "\u001b[?25hRequirement already satisfied: scipy in /usr/local/lib/python3.6/dist-packages (from catboost) (1.3.1)\n",
            "Requirement already satisfied: numpy>=1.16.0 in /usr/local/lib/python3.6/dist-packages (from catboost) (1.16.5)\n",
            "Requirement already satisfied: matplotlib in /usr/local/lib/python3.6/dist-packages (from catboost) (3.0.3)\n",
            "Requirement already satisfied: pandas>=0.24.0 in /usr/local/lib/python3.6/dist-packages (from catboost) (0.24.2)\n",
            "Requirement already satisfied: six in /usr/local/lib/python3.6/dist-packages (from catboost) (1.12.0)\n",
            "Requirement already satisfied: plotly in /usr/local/lib/python3.6/dist-packages (from catboost) (4.1.1)\n",
            "Requirement already satisfied: graphviz in /usr/local/lib/python3.6/dist-packages (from catboost) (0.10.1)\n",
            "Requirement already satisfied: kiwisolver>=1.0.1 in /usr/local/lib/python3.6/dist-packages (from matplotlib->catboost) (1.1.0)\n",
            "Requirement already satisfied: pyparsing!=2.0.4,!=2.1.2,!=2.1.6,>=2.0.1 in /usr/local/lib/python3.6/dist-packages (from matplotlib->catboost) (2.4.2)\n",
            "Requirement already satisfied: python-dateutil>=2.1 in /usr/local/lib/python3.6/dist-packages (from matplotlib->catboost) (2.5.3)\n",
            "Requirement already satisfied: cycler>=0.10 in /usr/local/lib/python3.6/dist-packages (from matplotlib->catboost) (0.10.0)\n",
            "Requirement already satisfied: pytz>=2011k in /usr/local/lib/python3.6/dist-packages (from pandas>=0.24.0->catboost) (2018.9)\n",
            "Requirement already satisfied: retrying>=1.3.3 in /usr/local/lib/python3.6/dist-packages (from plotly->catboost) (1.3.3)\n",
            "Requirement already satisfied: setuptools in /usr/local/lib/python3.6/dist-packages (from kiwisolver>=1.0.1->matplotlib->catboost) (41.2.0)\n",
            "Installing collected packages: catboost\n",
            "Successfully installed catboost-0.17.1\n"
          ],
          "name": "stdout"
        }
      ]
    },
    {
      "cell_type": "markdown",
      "metadata": {
        "id": "KxRsMrtU_RVr",
        "colab_type": "text"
      },
      "source": [
        "###take the catboost model"
      ]
    },
    {
      "cell_type": "code",
      "metadata": {
        "id": "g_wDNomg0IxV",
        "colab_type": "code",
        "colab": {}
      },
      "source": [
        "from catboost import CatBoostRegressor\n",
        "catboost_model = CatBoostRegressor(iterations=2000,\n",
        "                                   learning_rate=0.2,\n",
        "                                   depth =16)"
      ],
      "execution_count": 0,
      "outputs": []
    },
    {
      "cell_type": "markdown",
      "metadata": {
        "id": "g5-C9WVg_WhH",
        "colab_type": "text"
      },
      "source": [
        "### split the train and test data"
      ]
    },
    {
      "cell_type": "code",
      "metadata": {
        "id": "PWEL6WtwFA12",
        "colab_type": "code",
        "colab": {}
      },
      "source": [
        "train1 = train_data[:1000000]\n",
        "val = train_data[1000000:]\n",
        "train_target = target[:1000000]\n",
        "val_target = target[1000000:]"
      ],
      "execution_count": 0,
      "outputs": []
    },
    {
      "cell_type": "code",
      "metadata": {
        "id": "xn8TYzpmylv1",
        "colab_type": "code",
        "colab": {}
      },
      "source": [
        ""
      ],
      "execution_count": 0,
      "outputs": []
    },
    {
      "cell_type": "markdown",
      "metadata": {
        "id": "KjJAl3Ev_bus",
        "colab_type": "text"
      },
      "source": [
        "### train the catboost modle"
      ]
    },
    {
      "cell_type": "code",
      "metadata": {
        "id": "lmYDTUXREAs_",
        "colab_type": "code",
        "outputId": "f97b0fc2-79dc-4dae-d094-a2648b82bf0b",
        "colab": {
          "base_uri": "https://localhost:8080/",
          "height": 1000
        }
      },
      "source": [
        "catboost_model.fit(train1, train_target,\n",
        "                  eval_set=(val,val_target),\n",
        "                  verbose=5)"
      ],
      "execution_count": 0,
      "outputs": [
        {
          "output_type": "stream",
          "text": [
            "0:\tlearn: 12.4189297\ttest: 17.4897179\tbest: 17.4897179 (0)\ttotal: 2.4s\tremaining: 1h 20m 8s\n",
            "5:\tlearn: 6.1805457\ttest: 11.3306528\tbest: 11.3306528 (5)\ttotal: 11.8s\tremaining: 1h 5m 36s\n",
            "10:\tlearn: 4.3874574\ttest: 8.2136705\tbest: 8.2136705 (10)\ttotal: 21.3s\tremaining: 1h 4m 3s\n",
            "15:\tlearn: 3.7438943\ttest: 6.1552376\tbest: 6.1552376 (15)\ttotal: 30.8s\tremaining: 1h 3m 34s\n",
            "20:\tlearn: 3.4573414\ttest: 5.0508013\tbest: 5.0508013 (20)\ttotal: 40.2s\tremaining: 1h 3m 11s\n",
            "25:\tlearn: 3.3315238\ttest: 4.6957913\tbest: 4.6957913 (25)\ttotal: 49.8s\tremaining: 1h 3m\n",
            "30:\tlearn: 3.2447219\ttest: 4.3139422\tbest: 4.3139422 (30)\ttotal: 57.9s\tremaining: 1h 1m 17s\n",
            "35:\tlearn: 3.1894463\ttest: 4.1946384\tbest: 4.1946384 (35)\ttotal: 1m 7s\tremaining: 1h 1m 13s\n",
            "40:\tlearn: 3.1488781\ttest: 4.0899343\tbest: 4.0899343 (40)\ttotal: 1m 16s\tremaining: 1h 1m 17s\n",
            "45:\tlearn: 3.1127276\ttest: 4.0570500\tbest: 4.0570500 (45)\ttotal: 1m 26s\tremaining: 1h 1m 19s\n",
            "50:\tlearn: 3.0857234\ttest: 4.0500304\tbest: 4.0500304 (50)\ttotal: 1m 36s\tremaining: 1h 1m 10s\n",
            "55:\tlearn: 3.0543508\ttest: 4.0091986\tbest: 4.0091986 (55)\ttotal: 1m 45s\tremaining: 1h 1m 5s\n",
            "60:\tlearn: 3.0294755\ttest: 3.9773447\tbest: 3.9773447 (60)\ttotal: 1m 55s\tremaining: 1h 1m 2s\n",
            "65:\tlearn: 3.0098132\ttest: 3.9629309\tbest: 3.9629309 (65)\ttotal: 2m 4s\tremaining: 1h 58s\n",
            "70:\tlearn: 2.9947050\ttest: 3.9544664\tbest: 3.9544664 (70)\ttotal: 2m 14s\tremaining: 1h 54s\n",
            "75:\tlearn: 2.9813029\ttest: 3.9478669\tbest: 3.9478669 (75)\ttotal: 2m 24s\tremaining: 1h 49s\n",
            "80:\tlearn: 2.9649295\ttest: 3.9409847\tbest: 3.9409847 (80)\ttotal: 2m 33s\tremaining: 1h 41s\n",
            "85:\tlearn: 2.9513899\ttest: 3.9369361\tbest: 3.9352550 (84)\ttotal: 2m 41s\tremaining: 1h 2s\n",
            "90:\tlearn: 2.9404069\ttest: 3.9355193\tbest: 3.9352550 (84)\ttotal: 2m 51s\tremaining: 59m 56s\n",
            "95:\tlearn: 2.9304042\ttest: 3.9331668\tbest: 3.9331668 (95)\ttotal: 3m\tremaining: 59m 48s\n",
            "100:\tlearn: 2.9181724\ttest: 3.9281608\tbest: 3.9281608 (100)\ttotal: 3m 10s\tremaining: 59m 43s\n",
            "105:\tlearn: 2.9064013\ttest: 3.9209769\tbest: 3.9197041 (104)\ttotal: 3m 20s\tremaining: 59m 39s\n",
            "110:\tlearn: 2.8967287\ttest: 3.9169126\tbest: 3.9162658 (109)\ttotal: 3m 29s\tremaining: 59m 33s\n",
            "115:\tlearn: 2.8901237\ttest: 3.9181938\tbest: 3.9160069 (111)\ttotal: 3m 39s\tremaining: 59m 26s\n",
            "120:\tlearn: 2.8836255\ttest: 3.9130413\tbest: 3.9110846 (118)\ttotal: 3m 49s\tremaining: 59m 20s\n",
            "125:\tlearn: 2.8767449\ttest: 3.9096279\tbest: 3.9096279 (125)\ttotal: 3m 58s\tremaining: 59m 12s\n",
            "130:\tlearn: 2.8715234\ttest: 3.9108191\tbest: 3.9096279 (125)\ttotal: 4m 8s\tremaining: 59m 5s\n",
            "135:\tlearn: 2.8658587\ttest: 3.9109641\tbest: 3.9092474 (132)\ttotal: 4m 18s\tremaining: 58m 58s\n",
            "140:\tlearn: 2.8604053\ttest: 3.9090121\tbest: 3.9090121 (140)\ttotal: 4m 27s\tremaining: 58m 51s\n",
            "145:\tlearn: 2.8539412\ttest: 3.9076366\tbest: 3.9075583 (143)\ttotal: 4m 37s\tremaining: 58m 40s\n",
            "150:\tlearn: 2.8494368\ttest: 3.9076255\tbest: 3.9069942 (146)\ttotal: 4m 46s\tremaining: 58m 31s\n",
            "155:\tlearn: 2.8438344\ttest: 3.9029624\tbest: 3.9029624 (155)\ttotal: 4m 56s\tremaining: 58m 23s\n",
            "160:\tlearn: 2.8394589\ttest: 3.8936979\tbest: 3.8928320 (159)\ttotal: 5m 5s\tremaining: 58m 14s\n",
            "165:\tlearn: 2.8350984\ttest: 3.8934268\tbest: 3.8926685 (163)\ttotal: 5m 15s\tremaining: 58m 4s\n",
            "170:\tlearn: 2.8315659\ttest: 3.8885129\tbest: 3.8885129 (170)\ttotal: 5m 24s\tremaining: 57m 54s\n",
            "175:\tlearn: 2.8232783\ttest: 3.8751797\tbest: 3.8751797 (175)\ttotal: 5m 34s\tremaining: 57m 47s\n",
            "180:\tlearn: 2.8186100\ttest: 3.8738615\tbest: 3.8738615 (180)\ttotal: 5m 44s\tremaining: 57m 39s\n",
            "185:\tlearn: 2.8154386\ttest: 3.8739954\tbest: 3.8734167 (183)\ttotal: 5m 53s\tremaining: 57m 31s\n",
            "190:\tlearn: 2.8127374\ttest: 3.8653385\tbest: 3.8653385 (190)\ttotal: 6m 3s\tremaining: 57m 22s\n",
            "195:\tlearn: 2.8104932\ttest: 3.8564662\tbest: 3.8563486 (194)\ttotal: 6m 12s\tremaining: 57m 13s\n",
            "200:\tlearn: 2.8075314\ttest: 3.8541687\tbest: 3.8541687 (200)\ttotal: 6m 22s\tremaining: 57m 4s\n",
            "205:\tlearn: 2.8054584\ttest: 3.8556022\tbest: 3.8541687 (200)\ttotal: 6m 32s\tremaining: 56m 56s\n",
            "210:\tlearn: 2.8028277\ttest: 3.8553672\tbest: 3.8541687 (200)\ttotal: 6m 41s\tremaining: 56m 47s\n",
            "215:\tlearn: 2.8011108\ttest: 3.8539949\tbest: 3.8535489 (214)\ttotal: 6m 51s\tremaining: 56m 38s\n",
            "220:\tlearn: 2.7981419\ttest: 3.8495018\tbest: 3.8495018 (220)\ttotal: 7m 1s\tremaining: 56m 30s\n",
            "225:\tlearn: 2.7962007\ttest: 3.8479076\tbest: 3.8479076 (225)\ttotal: 7m 10s\tremaining: 56m 20s\n",
            "230:\tlearn: 2.7940979\ttest: 3.8480228\tbest: 3.8472544 (227)\ttotal: 7m 20s\tremaining: 56m 11s\n",
            "235:\tlearn: 2.7919653\ttest: 3.8474749\tbest: 3.8467596 (232)\ttotal: 7m 29s\tremaining: 56m 2s\n",
            "240:\tlearn: 2.7900464\ttest: 3.8477954\tbest: 3.8467596 (232)\ttotal: 7m 39s\tremaining: 55m 53s\n",
            "245:\tlearn: 2.7879061\ttest: 3.8485589\tbest: 3.8467596 (232)\ttotal: 7m 49s\tremaining: 55m 44s\n",
            "250:\tlearn: 2.7857896\ttest: 3.8462205\tbest: 3.8462205 (250)\ttotal: 7m 58s\tremaining: 55m 35s\n",
            "255:\tlearn: 2.7842079\ttest: 3.8457152\tbest: 3.8455821 (254)\ttotal: 8m 8s\tremaining: 55m 25s\n",
            "260:\tlearn: 2.7828062\ttest: 3.8452553\tbest: 3.8451246 (258)\ttotal: 8m 17s\tremaining: 55m 17s\n",
            "265:\tlearn: 2.7810430\ttest: 3.8451766\tbest: 3.8449792 (262)\ttotal: 8m 27s\tremaining: 55m 7s\n",
            "270:\tlearn: 2.7797911\ttest: 3.8443755\tbest: 3.8443755 (270)\ttotal: 8m 37s\tremaining: 54m 58s\n",
            "275:\tlearn: 2.7780486\ttest: 3.8441627\tbest: 3.8440389 (272)\ttotal: 8m 46s\tremaining: 54m 49s\n",
            "280:\tlearn: 2.7768876\ttest: 3.8439179\tbest: 3.8439114 (276)\ttotal: 8m 56s\tremaining: 54m 40s\n",
            "285:\tlearn: 2.7757696\ttest: 3.8429151\tbest: 3.8429151 (285)\ttotal: 9m 5s\tremaining: 54m 31s\n",
            "290:\tlearn: 2.7750097\ttest: 3.8427950\tbest: 3.8418377 (289)\ttotal: 9m 15s\tremaining: 54m 22s\n",
            "295:\tlearn: 2.7735666\ttest: 3.8426282\tbest: 3.8418377 (289)\ttotal: 9m 25s\tremaining: 54m 12s\n",
            "300:\tlearn: 2.7718927\ttest: 3.8411935\tbest: 3.8411935 (300)\ttotal: 9m 34s\tremaining: 54m 4s\n",
            "305:\tlearn: 2.7710100\ttest: 3.8414443\tbest: 3.8410840 (303)\ttotal: 9m 44s\tremaining: 53m 55s\n",
            "310:\tlearn: 2.7699027\ttest: 3.8410185\tbest: 3.8401904 (307)\ttotal: 9m 53s\tremaining: 53m 45s\n",
            "315:\tlearn: 2.7688691\ttest: 3.8395665\tbest: 3.8395665 (315)\ttotal: 10m 3s\tremaining: 53m 37s\n",
            "320:\tlearn: 2.7666680\ttest: 3.8386493\tbest: 3.8381628 (319)\ttotal: 10m 13s\tremaining: 53m 27s\n",
            "325:\tlearn: 2.7655161\ttest: 3.8392861\tbest: 3.8381628 (319)\ttotal: 10m 22s\tremaining: 53m 18s\n",
            "330:\tlearn: 2.7646093\ttest: 3.8395856\tbest: 3.8381628 (319)\ttotal: 10m 32s\tremaining: 53m 9s\n",
            "335:\tlearn: 2.7639470\ttest: 3.8392229\tbest: 3.8381628 (319)\ttotal: 10m 42s\tremaining: 52m 59s\n",
            "340:\tlearn: 2.7629824\ttest: 3.8384102\tbest: 3.8381628 (319)\ttotal: 10m 51s\tremaining: 52m 50s\n",
            "345:\tlearn: 2.7618935\ttest: 3.8371411\tbest: 3.8371411 (345)\ttotal: 11m 1s\tremaining: 52m 40s\n",
            "350:\tlearn: 2.7610295\ttest: 3.8340668\tbest: 3.8339817 (349)\ttotal: 11m 10s\tremaining: 52m 30s\n",
            "355:\tlearn: 2.7597878\ttest: 3.8307549\tbest: 3.8307549 (355)\ttotal: 11m 20s\tremaining: 52m 21s\n",
            "360:\tlearn: 2.7592131\ttest: 3.8310968\tbest: 3.8307549 (355)\ttotal: 11m 29s\tremaining: 52m 11s\n",
            "365:\tlearn: 2.7579579\ttest: 3.8309887\tbest: 3.8307549 (355)\ttotal: 11m 39s\tremaining: 52m 2s\n",
            "370:\tlearn: 2.7570060\ttest: 3.8313743\tbest: 3.8304372 (367)\ttotal: 11m 48s\tremaining: 51m 52s\n",
            "375:\tlearn: 2.7562784\ttest: 3.8313879\tbest: 3.8304372 (367)\ttotal: 11m 58s\tremaining: 51m 43s\n",
            "380:\tlearn: 2.7556408\ttest: 3.8314448\tbest: 3.8304372 (367)\ttotal: 12m 7s\tremaining: 51m 33s\n",
            "385:\tlearn: 2.7550124\ttest: 3.8316468\tbest: 3.8304372 (367)\ttotal: 12m 17s\tremaining: 51m 23s\n",
            "390:\tlearn: 2.7540800\ttest: 3.8251373\tbest: 3.8249735 (389)\ttotal: 12m 26s\tremaining: 51m 13s\n",
            "395:\tlearn: 2.7532801\ttest: 3.8258069\tbest: 3.8249033 (391)\ttotal: 12m 36s\tremaining: 51m 4s\n",
            "400:\tlearn: 2.7523043\ttest: 3.8243573\tbest: 3.8243573 (400)\ttotal: 12m 46s\tremaining: 50m 55s\n",
            "405:\tlearn: 2.7513209\ttest: 3.8243342\tbest: 3.8241982 (401)\ttotal: 12m 55s\tremaining: 50m 45s\n",
            "410:\tlearn: 2.7499529\ttest: 3.8231400\tbest: 3.8231400 (410)\ttotal: 13m 5s\tremaining: 50m 36s\n",
            "415:\tlearn: 2.7492698\ttest: 3.8224927\tbest: 3.8222425 (414)\ttotal: 13m 14s\tremaining: 50m 26s\n",
            "420:\tlearn: 2.7485000\ttest: 3.8232069\tbest: 3.8222425 (414)\ttotal: 13m 24s\tremaining: 50m 17s\n",
            "425:\tlearn: 2.7480081\ttest: 3.8235273\tbest: 3.8222425 (414)\ttotal: 13m 34s\tremaining: 50m 8s\n",
            "430:\tlearn: 2.7474564\ttest: 3.8236077\tbest: 3.8222425 (414)\ttotal: 13m 43s\tremaining: 49m 58s\n",
            "435:\tlearn: 2.7469326\ttest: 3.8251516\tbest: 3.8222425 (414)\ttotal: 13m 53s\tremaining: 49m 49s\n",
            "440:\tlearn: 2.7441263\ttest: 3.8237153\tbest: 3.8222425 (414)\ttotal: 14m 2s\tremaining: 49m 39s\n",
            "445:\tlearn: 2.7435298\ttest: 3.8238375\tbest: 3.8222425 (414)\ttotal: 14m 12s\tremaining: 49m 30s\n",
            "450:\tlearn: 2.7432882\ttest: 3.8238548\tbest: 3.8222425 (414)\ttotal: 14m 21s\tremaining: 49m 20s\n",
            "455:\tlearn: 2.7429382\ttest: 3.8242006\tbest: 3.8222425 (414)\ttotal: 14m 31s\tremaining: 49m 11s\n"
          ],
          "name": "stdout"
        },
        {
          "output_type": "error",
          "ename": "KeyboardInterrupt",
          "evalue": "ignored",
          "traceback": [
            "\u001b[0;31m---------------------------------------------------------------------------\u001b[0m",
            "\u001b[0;31mKeyboardInterrupt\u001b[0m                         Traceback (most recent call last)",
            "\u001b[0;32m<ipython-input-47-0abdcca2938a>\u001b[0m in \u001b[0;36m<module>\u001b[0;34m()\u001b[0m\n\u001b[1;32m      1\u001b[0m catboost_model.fit(train1, train_target,\n\u001b[1;32m      2\u001b[0m                   \u001b[0meval_set\u001b[0m\u001b[0;34m=\u001b[0m\u001b[0;34m(\u001b[0m\u001b[0mval\u001b[0m\u001b[0;34m,\u001b[0m\u001b[0mval_target\u001b[0m\u001b[0;34m)\u001b[0m\u001b[0;34m,\u001b[0m\u001b[0;34m\u001b[0m\u001b[0;34m\u001b[0m\u001b[0m\n\u001b[0;32m----> 3\u001b[0;31m                   verbose=5)\n\u001b[0m",
            "\u001b[0;32m/usr/local/lib/python3.6/dist-packages/catboost/core.py\u001b[0m in \u001b[0;36mfit\u001b[0;34m(self, X, y, cat_features, sample_weight, baseline, use_best_model, eval_set, verbose, logging_level, plot, column_description, verbose_eval, metric_period, silent, early_stopping_rounds, save_snapshot, snapshot_file, snapshot_interval, init_model)\u001b[0m\n\u001b[1;32m   4050\u001b[0m                          \u001b[0muse_best_model\u001b[0m\u001b[0;34m,\u001b[0m \u001b[0meval_set\u001b[0m\u001b[0;34m,\u001b[0m \u001b[0mverbose\u001b[0m\u001b[0;34m,\u001b[0m \u001b[0mlogging_level\u001b[0m\u001b[0;34m,\u001b[0m \u001b[0mplot\u001b[0m\u001b[0;34m,\u001b[0m \u001b[0mcolumn_description\u001b[0m\u001b[0;34m,\u001b[0m\u001b[0;34m\u001b[0m\u001b[0;34m\u001b[0m\u001b[0m\n\u001b[1;32m   4051\u001b[0m                          \u001b[0mverbose_eval\u001b[0m\u001b[0;34m,\u001b[0m \u001b[0mmetric_period\u001b[0m\u001b[0;34m,\u001b[0m \u001b[0msilent\u001b[0m\u001b[0;34m,\u001b[0m \u001b[0mearly_stopping_rounds\u001b[0m\u001b[0;34m,\u001b[0m\u001b[0;34m\u001b[0m\u001b[0;34m\u001b[0m\u001b[0m\n\u001b[0;32m-> 4052\u001b[0;31m                          save_snapshot, snapshot_file, snapshot_interval, init_model)\n\u001b[0m\u001b[1;32m   4053\u001b[0m \u001b[0;34m\u001b[0m\u001b[0m\n\u001b[1;32m   4054\u001b[0m     \u001b[0;32mdef\u001b[0m \u001b[0mpredict\u001b[0m\u001b[0;34m(\u001b[0m\u001b[0mself\u001b[0m\u001b[0;34m,\u001b[0m \u001b[0mdata\u001b[0m\u001b[0;34m,\u001b[0m \u001b[0mntree_start\u001b[0m\u001b[0;34m=\u001b[0m\u001b[0;36m0\u001b[0m\u001b[0;34m,\u001b[0m \u001b[0mntree_end\u001b[0m\u001b[0;34m=\u001b[0m\u001b[0;36m0\u001b[0m\u001b[0;34m,\u001b[0m \u001b[0mthread_count\u001b[0m\u001b[0;34m=\u001b[0m\u001b[0;34m-\u001b[0m\u001b[0;36m1\u001b[0m\u001b[0;34m,\u001b[0m \u001b[0mverbose\u001b[0m\u001b[0;34m=\u001b[0m\u001b[0;32mNone\u001b[0m\u001b[0;34m)\u001b[0m\u001b[0;34m:\u001b[0m\u001b[0;34m\u001b[0m\u001b[0;34m\u001b[0m\u001b[0m\n",
            "\u001b[0;32m/usr/local/lib/python3.6/dist-packages/catboost/core.py\u001b[0m in \u001b[0;36m_fit\u001b[0;34m(self, X, y, cat_features, pairs, sample_weight, group_id, group_weight, subgroup_id, pairs_weight, baseline, use_best_model, eval_set, verbose, logging_level, plot, column_description, verbose_eval, metric_period, silent, early_stopping_rounds, save_snapshot, snapshot_file, snapshot_interval, init_model)\u001b[0m\n\u001b[1;32m   1539\u001b[0m                 \u001b[0mparams\u001b[0m\u001b[0;34m,\u001b[0m\u001b[0;34m\u001b[0m\u001b[0;34m\u001b[0m\u001b[0m\n\u001b[1;32m   1540\u001b[0m                 \u001b[0mallow_clear_pool\u001b[0m\u001b[0;34m,\u001b[0m\u001b[0;34m\u001b[0m\u001b[0;34m\u001b[0m\u001b[0m\n\u001b[0;32m-> 1541\u001b[0;31m                 \u001b[0mtrain_params\u001b[0m\u001b[0;34m[\u001b[0m\u001b[0;34m\"init_model\"\u001b[0m\u001b[0;34m]\u001b[0m\u001b[0;34m\u001b[0m\u001b[0;34m\u001b[0m\u001b[0m\n\u001b[0m\u001b[1;32m   1542\u001b[0m             )\n\u001b[1;32m   1543\u001b[0m \u001b[0;34m\u001b[0m\u001b[0m\n",
            "\u001b[0;32m/usr/local/lib/python3.6/dist-packages/catboost/core.py\u001b[0m in \u001b[0;36m_train\u001b[0;34m(self, train_pool, test_pool, params, allow_clear_pool, init_model)\u001b[0m\n\u001b[1;32m   1099\u001b[0m \u001b[0;34m\u001b[0m\u001b[0m\n\u001b[1;32m   1100\u001b[0m     \u001b[0;32mdef\u001b[0m \u001b[0m_train\u001b[0m\u001b[0;34m(\u001b[0m\u001b[0mself\u001b[0m\u001b[0;34m,\u001b[0m \u001b[0mtrain_pool\u001b[0m\u001b[0;34m,\u001b[0m \u001b[0mtest_pool\u001b[0m\u001b[0;34m,\u001b[0m \u001b[0mparams\u001b[0m\u001b[0;34m,\u001b[0m \u001b[0mallow_clear_pool\u001b[0m\u001b[0;34m,\u001b[0m \u001b[0minit_model\u001b[0m\u001b[0;34m)\u001b[0m\u001b[0;34m:\u001b[0m\u001b[0;34m\u001b[0m\u001b[0;34m\u001b[0m\u001b[0m\n\u001b[0;32m-> 1101\u001b[0;31m         \u001b[0mself\u001b[0m\u001b[0;34m.\u001b[0m\u001b[0m_object\u001b[0m\u001b[0;34m.\u001b[0m\u001b[0m_train\u001b[0m\u001b[0;34m(\u001b[0m\u001b[0mtrain_pool\u001b[0m\u001b[0;34m,\u001b[0m \u001b[0mtest_pool\u001b[0m\u001b[0;34m,\u001b[0m \u001b[0mparams\u001b[0m\u001b[0;34m,\u001b[0m \u001b[0mallow_clear_pool\u001b[0m\u001b[0;34m,\u001b[0m \u001b[0minit_model\u001b[0m\u001b[0;34m.\u001b[0m\u001b[0m_object\u001b[0m \u001b[0;32mif\u001b[0m \u001b[0minit_model\u001b[0m \u001b[0;32melse\u001b[0m \u001b[0;32mNone\u001b[0m\u001b[0;34m)\u001b[0m\u001b[0;34m\u001b[0m\u001b[0;34m\u001b[0m\u001b[0m\n\u001b[0m\u001b[1;32m   1102\u001b[0m         \u001b[0mself\u001b[0m\u001b[0;34m.\u001b[0m\u001b[0m_set_trained_model_attributes\u001b[0m\u001b[0;34m(\u001b[0m\u001b[0;34m)\u001b[0m\u001b[0;34m\u001b[0m\u001b[0;34m\u001b[0m\u001b[0m\n\u001b[1;32m   1103\u001b[0m \u001b[0;34m\u001b[0m\u001b[0m\n",
            "\u001b[0;32m_catboost.pyx\u001b[0m in \u001b[0;36m_catboost._CatBoost._train\u001b[0;34m()\u001b[0m\n",
            "\u001b[0;32m_catboost.pyx\u001b[0m in \u001b[0;36m_catboost._CatBoost._train\u001b[0;34m()\u001b[0m\n",
            "\u001b[0;31mKeyboardInterrupt\u001b[0m: "
          ]
        }
      ]
    },
    {
      "cell_type": "code",
      "metadata": {
        "id": "DxuCDO6YJFaJ",
        "colab_type": "code",
        "colab": {}
      },
      "source": [
        ""
      ],
      "execution_count": 0,
      "outputs": []
    },
    {
      "cell_type": "markdown",
      "metadata": {
        "id": "qdz4k4BK_jgz",
        "colab_type": "text"
      },
      "source": [
        "### predicting the output from catboost model"
      ]
    },
    {
      "cell_type": "code",
      "metadata": {
        "id": "0Vyk8hAdFm0b",
        "colab_type": "code",
        "colab": {}
      },
      "source": [
        "pre = catboost_model.predict(con)\n",
        "pre"
      ],
      "execution_count": 0,
      "outputs": []
    },
    {
      "cell_type": "markdown",
      "metadata": {
        "id": "0biSQWIc_or2",
        "colab_type": "text"
      },
      "source": [
        "### make a csv file to upload"
      ]
    },
    {
      "cell_type": "code",
      "metadata": {
        "id": "Rjmd5iatInD8",
        "colab_type": "code",
        "colab": {}
      },
      "source": [
        "import csv\n",
        "os.chdir(\"/content/drive/My Drive/\")\n",
        "with open('result_ola2.csv','w') as f:\n",
        "    writer = csv.writer(f)\n",
        "    writer.writerow(['ID','total_amount'])\n",
        "i =0\n",
        "with open('result_ola2.csv','a') as f:\n",
        "    for x in pre:\n",
        "        f.write(\"%s,%s\\n\"%(i,x))\n",
        "        i+=1"
      ],
      "execution_count": 0,
      "outputs": []
    },
    {
      "cell_type": "code",
      "metadata": {
        "id": "Q-ysepCZkEzr",
        "colab_type": "code",
        "colab": {}
      },
      "source": [
        "import xgboost as xgb\n",
        "from sklearn import model_selection, preprocessing\n",
        "from sklearn.metrics import accuracy_score\n",
        "from sklearn.preprocessing import LabelEncoder\n"
      ],
      "execution_count": 0,
      "outputs": []
    },
    {
      "cell_type": "code",
      "metadata": {
        "id": "SLUQ1wpI1BW1",
        "colab_type": "code",
        "outputId": "670d625f-8fbb-4119-951c-dd1c9ef26d7f",
        "colab": {
          "base_uri": "https://localhost:8080/",
          "height": 235
        }
      },
      "source": [
        "model1 = xgb.XGBRegressor(learing_rate=0.001,max_depth=6)\n",
        "model1.fit(train_data,target)\n",
        "print(model1)"
      ],
      "execution_count": 0,
      "outputs": [
        {
          "output_type": "stream",
          "text": [
            "/usr/local/lib/python3.6/dist-packages/xgboost/core.py:587: FutureWarning: Series.base is deprecated and will be removed in a future version\n",
            "  if getattr(data, 'base', None) is not None and \\\n",
            "/usr/local/lib/python3.6/dist-packages/xgboost/core.py:588: FutureWarning: Series.base is deprecated and will be removed in a future version\n",
            "  data.base is not None and isinstance(data, np.ndarray) \\\n"
          ],
          "name": "stderr"
        },
        {
          "output_type": "stream",
          "text": [
            "[10:34:59] WARNING: /workspace/src/objective/regression_obj.cu:152: reg:linear is now deprecated in favor of reg:squarederror.\n",
            "XGBRegressor(base_score=0.5, booster='gbtree', colsample_bylevel=1,\n",
            "             colsample_bynode=1, colsample_bytree=1, gamma=0,\n",
            "             importance_type='gain', learing_rate=0.001, learning_rate=0.1,\n",
            "             max_delta_step=0, max_depth=6, min_child_weight=1, missing=None,\n",
            "             n_estimators=100, n_jobs=1, nthread=None, objective='reg:linear',\n",
            "             random_state=0, reg_alpha=0, reg_lambda=1, scale_pos_weight=1,\n",
            "             seed=None, silent=None, subsample=1, verbosity=1)\n"
          ],
          "name": "stdout"
        }
      ]
    },
    {
      "cell_type": "code",
      "metadata": {
        "id": "7mNBtGPW2c2Y",
        "colab_type": "code",
        "colab": {}
      },
      "source": [
        ""
      ],
      "execution_count": 0,
      "outputs": []
    },
    {
      "cell_type": "code",
      "metadata": {
        "id": "d-e8JwAY2NoI",
        "colab_type": "code",
        "colab": {}
      },
      "source": [
        "predictions = model1.predict(data=con)"
      ],
      "execution_count": 0,
      "outputs": []
    },
    {
      "cell_type": "code",
      "metadata": {
        "id": "hBYJgeQP84rj",
        "colab_type": "code",
        "outputId": "b0c5e0c3-d4a3-47fa-d8c4-05c1f76d9a9c",
        "colab": {
          "base_uri": "https://localhost:8080/",
          "height": 54
        }
      },
      "source": [
        "predictions"
      ],
      "execution_count": 0,
      "outputs": [
        {
          "output_type": "execute_result",
          "data": {
            "text/plain": [
              "array([ 7.368483, 12.599285, 18.369818, ...,  9.980638, 14.709932,\n",
              "       15.392969], dtype=float32)"
            ]
          },
          "metadata": {
            "tags": []
          },
          "execution_count": 79
        }
      ]
    },
    {
      "cell_type": "code",
      "metadata": {
        "id": "wTDJsHJd7YO-",
        "colab_type": "code",
        "outputId": "35acec87-8c63-4e28-f5e6-00f9f29d5023",
        "colab": {
          "base_uri": "https://localhost:8080/",
          "height": 54
        }
      },
      "source": [
        "prediction"
      ],
      "execution_count": 0,
      "outputs": [
        {
          "output_type": "execute_result",
          "data": {
            "text/plain": [
              "array([ 7.2813573, 12.751128 , 18.448627 , ..., 10.363514 , 14.732673 ,\n",
              "       15.410949 ], dtype=float32)"
            ]
          },
          "metadata": {
            "tags": []
          },
          "execution_count": 76
        }
      ]
    },
    {
      "cell_type": "code",
      "metadata": {
        "id": "Ipz9ZfNT2XiF",
        "colab_type": "code",
        "outputId": "2a2f8e47-a4a8-4ea5-a75a-66731ea93422",
        "colab": {
          "base_uri": "https://localhost:8080/",
          "height": 54
        }
      },
      "source": [
        "#predictions\n",
        "prediction"
      ],
      "execution_count": 0,
      "outputs": [
        {
          "output_type": "execute_result",
          "data": {
            "text/plain": [
              "array([ 6.9297414, 12.306765 , 19.58647  , ..., 11.034373 , 14.744299 ,\n",
              "       14.359267 ], dtype=float32)"
            ]
          },
          "metadata": {
            "tags": []
          },
          "execution_count": 73
        }
      ]
    },
    {
      "cell_type": "code",
      "metadata": {
        "id": "yHaGfdaU1hoy",
        "colab_type": "code",
        "colab": {}
      },
      "source": [
        "import csv\n",
        "os.chdir(\"/content/drive/My Drive/\")\n",
        "with open('result_ola3.csv','w') as f:\n",
        "    writer = csv.writer(f)\n",
        "    writer.writerow(['ID','total_amount'])\n",
        "i =0\n",
        "with open('result_ola3.csv','a') as f:\n",
        "    for x in predictions:\n",
        "        f.write(\"%s,%s\\n\"%(i,x))\n",
        "        i+=1"
      ],
      "execution_count": 0,
      "outputs": []
    },
    {
      "cell_type": "code",
      "metadata": {
        "id": "KxpxVsGG27DD",
        "colab_type": "code",
        "colab": {}
      },
      "source": [
        ""
      ],
      "execution_count": 0,
      "outputs": []
    }
  ]
}